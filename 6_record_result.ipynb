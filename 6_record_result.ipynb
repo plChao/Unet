{
 "cells": [
  {
   "cell_type": "code",
   "execution_count": 4,
   "metadata": {},
   "outputs": [],
   "source": [
    "import os\n",
    "exp_name = \"0908_131_80\"\n",
    "\n",
    "\n",
    "if os.path.exists('record/'+exp_name):\n",
    "    print('This name exist, if want to overwrite please remove it')\n",
    "else:\n",
    "    os.system('mkdir record/'+exp_name)\n",
    "    os.system('cp result/seg_raw/* record/'+exp_name)\n",
    "    os.system('rm result/seg_raw/*')"
   ]
  },
  {
   "cell_type": "code",
   "execution_count": null,
   "metadata": {},
   "outputs": [],
   "source": []
  }
 ],
 "metadata": {
  "kernelspec": {
   "display_name": "Python 3",
   "language": "python",
   "name": "python3"
  },
  "language_info": {
   "codemirror_mode": {
    "name": "ipython",
    "version": 3
   },
   "file_extension": ".py",
   "mimetype": "text/x-python",
   "name": "python",
   "nbconvert_exporter": "python",
   "pygments_lexer": "ipython3",
   "version": "3.6.7"
  }
 },
 "nbformat": 4,
 "nbformat_minor": 4
}
