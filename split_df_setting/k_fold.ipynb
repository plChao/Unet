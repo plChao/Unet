{
 "cells": [
  {
   "cell_type": "code",
   "execution_count": null,
   "metadata": {},
   "outputs": [],
   "source": [
    "import os\n",
    "import glob\n",
    "import random\n",
    "import pandas as pd\n",
    "import sys\n",
    "sys.path.append(r\"../../data/data_checking_code/\")\n",
    "\n",
    "import folder_tool\n",
    "\n",
    "def generate_kfold_splits(dataset_ids, num_folds):\n",
    "    random.shuffle(dataset_ids)\n",
    "    fold_size = len(dataset_ids) // num_folds\n",
    "    kfold_splits = []\n",
    "    kfold_val_splits = []\n",
    "\n",
    "    for fold in range(num_folds):\n",
    "        fold_start = fold * fold_size\n",
    "        fold_end = (fold + 1) * fold_size if fold < num_folds - 1 else len(dataset_ids)\n",
    "        fold_ids = dataset_ids[fold_start:fold_end]\n",
    "        kfold_splits.append(fold_ids)\n",
    "\n",
    "    for i in range(-1, 4, 1):\n",
    "        kfold_val_splits.append(kfold_splits[i])\n",
    "    return kfold_splits, kfold_val_splits\n",
    "\n",
    "data_info, result_info_path = folder_tool.data_json_setting_load('../0_data_json_setting/0_run.json')\n",
    "y_train_dir = data_info['y_train_dir']\n",
    "\n",
    "num_folds = 5\n",
    "fold_csv_path = f\"./kfold{num_folds}_fold_1.csv\"\n",
    "assert not os.path.exists(fold_csv_path), fold_csv_path + ' exist'\n",
    "dataset_ids = [os.path.basename(x) for x in glob.glob(f'../{y_train_dir}/*.PNG')]\n",
    "\n",
    "kfold_splits, val_split = generate_kfold_splits(dataset_ids, num_folds)\n",
    "\n",
    "for fold, (fold_ids, val_ids) in enumerate(zip(kfold_splits, val_split), start=1):\n",
    "    fold_df = []\n",
    "    for index, ids in enumerate(dataset_ids):\n",
    "        if ids in fold_ids:\n",
    "            fold_df.append([ids, 'test'])\n",
    "        elif ids in val_ids:\n",
    "            fold_df.append([ids, 'valid'])\n",
    "        else:\n",
    "            fold_df.append([ids, 'train'])\n",
    "    \n",
    "    fold_df = pd.DataFrame(fold_df, columns=['image_id', 'type'])\n",
    "    fold_csv_path = f\"./kfold{num_folds}_fold_{fold}.csv\"\n",
    "    fold_df.to_csv(fold_csv_path, index=False)\n"
   ]
  },
  {
   "cell_type": "code",
   "execution_count": null,
   "metadata": {},
   "outputs": [],
   "source": [
    "num_folds = 5\n",
    "fold_counts = {\"fold\": [], \"train\": [], \"valid\": [], \"test\": []}\n",
    "\n",
    "for fold in range(1, num_folds + 1):\n",
    "    fold_csv_path = f\"./kfold{num_folds}_fold_{fold}.csv\"\n",
    "    fold_df = pd.read_csv(fold_csv_path)\n",
    "    \n",
    "    train_count = (fold_df[\"type\"] == \"train\").sum()\n",
    "    valid_count = (fold_df[\"type\"] == \"valid\").sum()\n",
    "    test_count = (fold_df[\"type\"] == \"test\").sum()\n",
    "    \n",
    "    fold_counts[\"fold\"].append(f\"fold_{fold}\")\n",
    "    fold_counts[\"train\"].append(train_count)\n",
    "    fold_counts[\"valid\"].append(valid_count)\n",
    "    fold_counts[\"test\"].append(test_count)\n",
    "\n",
    "counts_table = pd.DataFrame(fold_counts)\n",
    "print(counts_table)\n"
   ]
  },
  {
   "cell_type": "code",
   "execution_count": null,
   "metadata": {},
   "outputs": [],
   "source": []
  }
 ],
 "metadata": {
  "kernelspec": {
   "display_name": "segment-gpu",
   "language": "python",
   "name": "python3"
  },
  "language_info": {
   "codemirror_mode": {
    "name": "ipython",
    "version": 3
   },
   "file_extension": ".py",
   "mimetype": "text/x-python",
   "name": "python",
   "nbconvert_exporter": "python",
   "pygments_lexer": "ipython3",
   "version": "3.6.13"
  },
  "orig_nbformat": 4
 },
 "nbformat": 4,
 "nbformat_minor": 2
}
