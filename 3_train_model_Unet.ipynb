{
 "cells": [
  {
   "cell_type": "markdown",
   "metadata": {},
   "source": [
    "### Reqirements\n",
    "- keras >= 2.2.0 or tensorflow >= 1.13\n",
    "- segmenation-models==1.0.*\n",
    "- albumentations==0.3.0"
   ]
  },
  {
   "cell_type": "code",
   "execution_count": 1,
   "metadata": {},
   "outputs": [],
   "source": [
    "# # Install required libs\r\n",
    "\r\n",
    "# ### please update Albumentations to version>=0.3.0 for `Lambda` transform support\r\n",
    "# !pip install -U albumentations>=0.3.0 --user \r\n",
    "# !pip install -U --pre segmentation-models --user"
   ]
  },
  {
   "cell_type": "code",
   "execution_count": 2,
   "metadata": {},
   "outputs": [
    {
     "name": "stdout",
     "output_type": "stream",
     "text": [
      "Python 3.6.7\n"
     ]
    }
   ],
   "source": [
    "!python --version"
   ]
  },
  {
   "cell_type": "code",
   "execution_count": 3,
   "metadata": {},
   "outputs": [
    {
     "name": "stdout",
     "output_type": "stream",
     "text": [
      "pip 19.3.1 from /opt/conda/lib/python3.6/site-packages/pip (python 3.6)\n"
     ]
    }
   ],
   "source": [
    "!pip --version"
   ]
  },
  {
   "cell_type": "code",
   "execution_count": 4,
   "metadata": {},
   "outputs": [],
   "source": [
    "# !pip list"
   ]
  },
  {
   "cell_type": "code",
   "execution_count": 1,
   "metadata": {},
   "outputs": [],
   "source": [
    "import os\r\n",
    "os.environ['CUDA_VISIBLE_DEVICES'] = '0'\r\n",
    "\r\n",
    "import cv2\r\n",
    "import keras\r\n",
    "import shutil\r\n",
    "import numpy as np\r\n",
    "import matplotlib.pyplot as plt\r\n",
    "\r\n",
    "from tqdm import tqdm"
   ]
  },
  {
   "cell_type": "code",
   "execution_count": 6,
   "metadata": {},
   "outputs": [],
   "source": [
    "# import tensorflow as tf"
   ]
  },
  {
   "cell_type": "code",
   "execution_count": 7,
   "metadata": {},
   "outputs": [],
   "source": [
    "training = True"
   ]
  },
  {
   "cell_type": "code",
   "execution_count": 8,
   "metadata": {},
   "outputs": [],
   "source": [
    "\r\n",
    "set_size = 1024\r\n",
    "set_padding = 1280"
   ]
  },
  {
   "cell_type": "code",
   "execution_count": 9,
   "metadata": {},
   "outputs": [],
   "source": [
    "x_train_dir = './data/raw_data/'\r\n",
    "y_train_dir ='./label/label_for_train/')\r\n",
    "\r\n",
    "# x_val_dir = os.path.join(DATA_DIR, 'val/image')\r\n",
    "# y_val_dir = os.path.join(DATA_DIR, 'val/label')\r\n",
    "\r\n",
    "\r\n",
    "# x_test_dir = os.path.join(DATA_DIR, 'test/image')\r\n",
    "# y_test_dir = os.path.join(DATA_DIR, 'test/label')"
   ]
  },
  {
   "cell_type": "code",
   "execution_count": 10,
   "metadata": {},
   "outputs": [],
   "source": [
    "def remove_check_point(path):\n",
    "    for file_name in os.listdir(path):\n",
    "        #print(file_name)\n",
    "        if 'checkpoints' in file_name:\n",
    "            shutil.rmtree(os.path.join(path, file_name))\n",
    "remove_check_point(x_train_dir)\n",
    "remove_check_point(y_train_dir)"
   ]
  },
  {
   "cell_type": "markdown",
   "metadata": {},
   "source": [
    "# Dataloader and utility functions "
   ]
  },
  {
   "cell_type": "code",
   "execution_count": 11,
   "metadata": {},
   "outputs": [],
   "source": [
    "# helper function for data visualization\n",
    "def visualize(**images):\n",
    "    \"\"\"PLot images in one row.\"\"\"\n",
    "    n = len(images)\n",
    "    plt.figure(figsize=(16, 5))\n",
    "    for i, (name, image) in enumerate(images.items()):\n",
    "        plt.subplot(1, n, i + 1)\n",
    "        plt.xticks([])\n",
    "        plt.yticks([])\n",
    "        plt.title(' '.join(name.split('_')).title())\n",
    "        plt.imshow(image)\n",
    "    plt.show()\n",
    "    \n",
    "# helper function for data visualization    \n",
    "def denormalize(x):\n",
    "    \"\"\"Scale image to range 0..1 for correct plot\"\"\"\n",
    "    x_max = np.percentile(x, 98)\n",
    "    x_min = np.percentile(x, 2)    \n",
    "    x = (x - x_min) / (x_max - x_min)\n",
    "    x = x.clip(0, 1)\n",
    "    return x\n",
    "    \n",
    "\n",
    "# classes for data loading and preprocessing\n",
    "class Dataset:\n",
    "    \"\"\"CamVid Dataset. Read images, apply augmentation and preprocessing transformations.\n",
    "    \n",
    "    Args:\n",
    "        images_dir (str): path to images folder\n",
    "        masks_dir (str): path to segmentation masks folder\n",
    "        class_values (list): values of classes to extract from segmentation mask\n",
    "        augmentation (albumentations.Compose): data transfromation pipeline \n",
    "            (e.g. flip, scale, etc.)\n",
    "        preprocessing (albumentations.Compose): data preprocessing \n",
    "            (e.g. noralization, shape manipulation, etc.)\n",
    "    \n",
    "    \"\"\"\n",
    "    \n",
    "    CLASSES = ['img_whiteside','background','bacmixgums', 'artifical_crown','tooth','overlap','cavity','cej','gums','img_depressed']\n",
    "    \n",
    "    def __init__(\n",
    "            self, \n",
    "            images_dir, \n",
    "            masks_dir, \n",
    "            classes=None, \n",
    "            augmentation=None, \n",
    "            preprocessing=None,\n",
    "    ):\n",
    "        self.ids = os.listdir(images_dir)\n",
    "        self.images_fps = [os.path.join(images_dir, image_id) for image_id in self.ids]\n",
    "        self.masks_fps = [os.path.join(masks_dir, image_id) for image_id in self.ids]\n",
    "        \n",
    "        # convert str names to class values on masks\n",
    "        self.class_values = [self.CLASSES.index(cls.lower()) for cls in classes]\n",
    "        \n",
    "        self.augmentation = augmentation\n",
    "        self.preprocessing = preprocessing\n",
    "    \n",
    "    def __getitem__(self, i):\n",
    "        \n",
    "        #oupput image name\n",
    "        name = self.images_fps[i].split('/')[-1]\n",
    "\n",
    "        # read data\n",
    "        image = cv2.imread(self.images_fps[i])\n",
    "        image = cv2.cvtColor(image, cv2.COLOR_BGR2RGB)\n",
    "        mask = cv2.imread(self.masks_fps[i], 0)\n",
    "        \n",
    "        # extract certain classes from mask (e.g. cars)\n",
    "        masks = [(mask == v) for v in self.class_values]\n",
    "        mask = np.stack(masks, axis=-1).astype('float')\n",
    "        \n",
    "        # add background if mask is not binary\n",
    "        if mask.shape[-1] != 1:\n",
    "            background = 1 - mask.sum(axis=-1, keepdims=True)\n",
    "            mask = np.concatenate((mask, background), axis=-1)\n",
    "        \n",
    "        # apply augmentations\n",
    "        if self.augmentation:\n",
    "            sample = self.augmentation(image=image, mask=mask)\n",
    "            image, mask = sample['image'], sample['mask']\n",
    "        \n",
    "        # apply preprocessing\n",
    "        if self.preprocessing:\n",
    "            sample = self.preprocessing(image=image, mask=mask)\n",
    "            image, mask = sample['image'], sample['mask']\n",
    "            \n",
    "        return image, mask\n",
    "        \n",
    "    def __len__(self):\n",
    "        return len(self.ids)\n",
    "    \n",
    "    \n",
    "class Dataloder(keras.utils.Sequence):\n",
    "    \"\"\"Load data from dataset and form batches\n",
    "    \n",
    "    Args:\n",
    "        dataset: instance of Dataset class for image loading and preprocessing.\n",
    "        batch_size: Integet number of images in batch.\n",
    "        shuffle: Boolean, if `True` shuffle image indexes each epoch.\n",
    "    \"\"\"\n",
    "    \n",
    "    def __init__(self, dataset, batch_size=1, shuffle=False):\n",
    "        self.dataset = dataset\n",
    "        self.batch_size = batch_size\n",
    "        self.shuffle = shuffle\n",
    "        self.indexes = np.arange(len(dataset))\n",
    "        self.on_epoch_end()\n",
    "\n",
    "    def __getitem__(self, i):\n",
    "        \n",
    "        # collect batch data\n",
    "        start = i * self.batch_size\n",
    "        stop = (i + 1) * self.batch_size\n",
    "        data = []\n",
    "        for j in range(start, stop):\n",
    "            data.append(self.dataset[j])\n",
    "        \n",
    "        # transpose list of lists\n",
    "        batch = [np.stack(samples, axis=0) for samples in zip(*data)]\n",
    "        \n",
    "        return batch\n",
    "    \n",
    "    def __len__(self):\n",
    "        \"\"\"Denotes the number of batches per epoch\"\"\"\n",
    "        return len(self.indexes) // self.batch_size\n",
    "    \n",
    "    def on_epoch_end(self):\n",
    "        \"\"\"Callback function to shuffle indexes each epoch\"\"\"\n",
    "        if self.shuffle:\n",
    "            self.indexes = np.random.permutation(self.indexes)   "
   ]
  },
  {
   "cell_type": "code",
   "execution_count": 12,
   "metadata": {},
   "outputs": [
    {
     "name": "stdout",
     "output_type": "stream",
     "text": [
      "[0, 1, 2, 3, 4, 5, 6, 7, 8, 9]\n"
     ]
    },
    {
     "data": {
      "image/png": "[encoded data removed]",
      "text/plain": [
       "<Figure size 1152x360 with 7 Axes>"
      ]
     },
     "metadata": {},
     "output_type": "display_data"
    },
    {
     "name": "stdout",
     "output_type": "stream",
     "text": [
      "(1024, 1024, 3)\n"
     ]
    }
   ],
   "source": [
    "# Lets look at data we have\n",
    "dataset = Dataset(x_train_dir, y_train_dir, classes= ['img_whiteside','background','bacmixgums', 'artifical_crown','tooth','overlap','cavity','cej','gums','img_depressed'])\n",
    "print(dataset.class_values)\n",
    "image, mask = dataset[65] # get some sample\n",
    "\n",
    "visualize(\n",
    "    image=image, \n",
    "    arg_black_space=mask[..., 0].squeeze(),\n",
    "    whiteside_mask=mask[..., 1].squeeze(),\n",
    "    background_mask=mask[..., 2].squeeze(),\n",
    "    bacmixgums_mask=mask[..., 3].squeeze(),\n",
    "    artifical_crown_mask =mask[..., 4].squeeze(),\n",
    "    tooth_mask =mask[..., 5].squeeze(),\n",
    "#     overlap_mask=mask[..., 6].squeeze(),\n",
    "#     cavity_mask =mask[..., 7].squeeze(),\n",
    "#     cej_mask=mask[..., 8].squeeze(),\n",
    "#     gums_mask =mask[..., 9].squeeze(),\n",
    "#     img_depressed_mask=mask[..., 10].squeeze(),\n",
    ")\n",
    "print(image.shape)"
   ]
  },
  {
   "cell_type": "code",
   "execution_count": 13,
   "metadata": {},
   "outputs": [],
   "source": [
    "# plt.figure(figsize=(12,12))\n",
    "# plt.imshow(image)\n",
    "# plt.show()\n",
    "\n",
    "# #前牙 label\n",
    "# #"
   ]
  },
  {
   "cell_type": "code",
   "execution_count": 14,
   "metadata": {},
   "outputs": [
    {
     "data": {
      "image/png": "[encoded data removed]",
      "text/plain": [
       "<Figure size 1152x360 with 6 Axes>"
      ]
     },
     "metadata": {},
     "output_type": "display_data"
    }
   ],
   "source": [
    "visualize(\n",
    "    image=image, \n",
    "#     whiteside_mask=mask[..., 1].squeeze(),\n",
    "#     background_mask=mask[..., 2].squeeze(),\n",
    "#     bacmixgums_mask=mask[..., 3].squeeze(),\n",
    "#     artifical_crown_mask =mask[..., 4].squeeze(),\n",
    "#     tooth_mask =mask[..., 5].squeeze(),\n",
    "    overlap_mask=mask[..., 6].squeeze(),\n",
    "    cavity_mask =mask[..., 7].squeeze(),\n",
    "    cej_mask=mask[..., 8].squeeze(),\n",
    "    gums_mask =mask[..., 9].squeeze(),\n",
    "    img_depressed_mask=mask[..., 10].squeeze(),\n",
    ")"
   ]
  },
  {
   "cell_type": "markdown",
   "metadata": {},
   "source": [
    "### Augmentations"
   ]
  },
  {
   "cell_type": "markdown",
   "metadata": {},
   "source": [
    "Data augmentation is a powerful technique to increase the amount of your data and prevent model overfitting.  \n",
    "If you not familiar with such trick read some of these articles:\n",
    " - [The Effectiveness of Data Augmentation in Image Classification using Deep\n",
    "Learning](http://cs231n.stanford.edu/reports/2017/pdfs/300.pdf)\n",
    " - [Data Augmentation | How to use Deep Learning when you have Limited Data](https://medium.com/nanonets/how-to-use-deep-learning-when-you-have-limited-data-part-2-data-augmentation-c26971dc8ced)\n",
    " - [Data Augmentation Experimentation](https://towardsdatascience.com/data-augmentation-experimentation-3e274504f04b)\n",
    "\n",
    "Since our dataset is very small we will apply a large number of different augmentations:\n",
    " - horizontal flip\n",
    " - affine transforms\n",
    " - perspective transforms\n",
    " - brightness/contrast/colors manipulations\n",
    " - image bluring and sharpening\n",
    " - gaussian noise\n",
    " - random crops\n",
    "\n",
    "All this transforms can be easily applied with [**Albumentations**](https://github.com/albu/albumentations/) - fast augmentation library.\n",
    "For detailed explanation of image transformations you can look at [kaggle salt segmentation exmaple](https://github.com/albu/albumentations/blob/master/notebooks/example_kaggle_salt.ipynb) provided by [**Albumentations**](https://github.com/albu/albumentations/) authors.\n"
   ]
  },
  {
   "cell_type": "code",
   "execution_count": 15,
   "metadata": {},
   "outputs": [],
   "source": [
    "import albumentations as A"
   ]
  },
  {
   "cell_type": "code",
   "execution_count": 16,
   "metadata": {},
   "outputs": [],
   "source": [
    "def round_clip_0_1(x, **kwargs):\n",
    "    return x.round().clip(0, 1)\n",
    "\n",
    "# define heavy augmentations\n",
    "def get_training_augmentation():\n",
    "    train_transform = [\n",
    "        #水平翻轉\n",
    "        A.HorizontalFlip(p=0.5),\n",
    "        #垂直翻轉\n",
    "        A.VerticalFlip(p=0.5),\n",
    "        #拉升 旋轉 位移\n",
    "        A.ShiftScaleRotate(scale_limit=0.3, rotate_limit=5, shift_limit=0.1, p=1, border_mode=0),\n",
    "        \n",
    "        #set_padding = 1280, set_size = 1024 \n",
    "        #原圖1024*1024 將外部padding成 1280*1280\n",
    "        A.PadIfNeeded(min_height=set_padding, min_width=set_padding, always_apply=True, border_mode=0),\n",
    "        #從1280*1280切割成1024\n",
    "        A.RandomCrop(height=set_size, width=set_size, always_apply=True),\n",
    "        \n",
    "        #2成機率加入雜訊\n",
    "        A.IAAAdditiveGaussianNoise(p=0.2),\n",
    "        \n",
    "        #套用clahe 隨機亮度調整\n",
    "        A.OneOf(\n",
    "            [\n",
    "                A.CLAHE(p=1),\n",
    "                A.RandomBrightness(p=1),\n",
    "                A.RandomGamma(p=1),\n",
    "            ],\n",
    "            p=0.5,\n",
    "        ),\n",
    "\n",
    "        A.OneOf(\n",
    "            [\n",
    "                A.IAASharpen(p=1),\n",
    "                A.Blur(blur_limit=3, p=1),\n",
    "                A.MotionBlur(blur_limit=3, p=1),\n",
    "            ],\n",
    "            p=0.5,\n",
    "        ),\n",
    "\n",
    "        A.OneOf(\n",
    "            [\n",
    "                A.RandomContrast(p=1),\n",
    "            ],\n",
    "            p=0.5,\n",
    "        ),\n",
    "        A.Lambda(mask=round_clip_0_1)\n",
    "    ]\n",
    "    return A.Compose(train_transform)\n",
    "\n",
    "\n",
    "def get_validation_augmentation():\n",
    "    \"\"\"Add paddings to make image shape divisible by 32\"\"\"\n",
    "    test_transform = [\n",
    "        A.PadIfNeeded(set_padding, set_padding),\n",
    "        A.RandomCrop(height=set_size, width=set_size, always_apply=True)\n",
    "    ]\n",
    "    return A.Compose(test_transform)\n",
    "\n",
    "def get_training_enhance_augmentation():\n",
    "    \"\"\"Add paddings to make image shape divisible by 32\"\"\"\n",
    "    fine_tune_transform = [\n",
    "        A.HorizontalFlip(p=0.5),\n",
    "        A.ShiftScaleRotate(scale_limit=0.1, rotate_limit=90, shift_limit=0.1, p=1, border_mode=0),\n",
    "\n",
    "        A.PadIfNeeded(min_height=set_padding, min_width=set_padding, always_apply=True, border_mode=0),\n",
    "        A.RandomCrop(height=set_size, width=set_size, always_apply=True),\n",
    "        A.OneOf(\n",
    "            [\n",
    "                A.CLAHE(p=1),\n",
    "                A.RandomBrightness(p=1),\n",
    "                A.RandomGamma(p=1),\n",
    "            ],\n",
    "            p=0.9,\n",
    "        )\n",
    "    ]\n",
    "    return A.Compose(fine_tune_transform)\n",
    "\n",
    "def get_fine_tune_augmentation():\n",
    "    \"\"\"Add paddings to make image shape divisible by 32\"\"\"\n",
    "    fine_tune_transform = [\n",
    "        A.PadIfNeeded(min_height=set_padding, min_width=set_padding, always_apply=True, border_mode=0),\n",
    "        #A.HorizontalFlip(p=0.5),\n",
    "#         A.OneOf(\n",
    "#             [\n",
    "#                 A.CLAHE(p=1),\n",
    "#                 A.RandomBrightness(p=1),\n",
    "#                 A.RandomGamma(p=1),\n",
    "#             ],\n",
    "#             p=1,\n",
    "#         ),\n",
    "#         A.OneOf(\n",
    "#             [\n",
    "#                 A.RandomContrast(p=1),\n",
    "#                 A.HueSaturationValue(p=1),\n",
    "#             ],\n",
    "#             p=1,\n",
    "#         ),\n",
    "#         A.ShiftScaleRotate(scale_limit=0.1, rotate_limit=15, shift_limit=0.1, p=1, border_mode=0),\n",
    "#         A.PadIfNeeded(min_height=set_padding, min_width=set_padding, always_apply=True, border_mode=0),\n",
    "#         A.RandomCrop(height=set_size, width=set_size, always_apply=True),\n",
    "#         A.IAAAdditiveGaussianNoise(p=1),\n",
    "#         A.OneOf(\n",
    "#             [\n",
    "#                 A.CLAHE(p=1),\n",
    "#                 A.RandomBrightness(p=1),\n",
    "#                 A.RandomGamma(p=1),\n",
    "#             ],\n",
    "#             p=0.5,\n",
    "#         )\n",
    "    ]\n",
    "    return A.Compose(fine_tune_transform)\n",
    "\n",
    "def get_preprocessing(preprocessing_fn):\n",
    "    \"\"\"Construct preprocessing transform\n",
    "    \n",
    "    Args:\n",
    "        preprocessing_fn (callbale): data normalization function \n",
    "            (can be specific for each pretrained neural network)\n",
    "    Return:\n",
    "        transform: albumentations.Compose\n",
    "    \n",
    "    \"\"\"\n",
    "    \n",
    "    _transform = [\n",
    "        A.Lambda(image=preprocessing_fn),\n",
    "    ]\n",
    "    return A.Compose(_transform)"
   ]
  },
  {
   "cell_type": "code",
   "execution_count": null,
   "metadata": {},
   "outputs": [],
   "source": []
  },
  {
   "cell_type": "code",
   "execution_count": 17,
   "metadata": {},
   "outputs": [
    {
     "name": "stdout",
     "output_type": "stream",
     "text": [
      "[0, 1, 2, 3, 4, 5, 6, 7, 8, 9]\n"
     ]
    },
    {
     "data": {
      "image/png": "[encoded data removed]",
      "text/plain": [
       "<Figure size 1152x360 with 12 Axes>"
      ]
     },
     "metadata": {},
     "output_type": "display_data"
    },
    {
     "name": "stdout",
     "output_type": "stream",
     "text": [
      "(1024, 1024, 3)\n",
      "(1024, 1024, 11)\n"
     ]
    }
   ],
   "source": [
    "# Lets look at augmented data we have\n",
    "dataset = Dataset(x_train_dir, y_train_dir, classes= ['img_whiteside','background','bacmixgums', 'artifical_crown','tooth','overlap','cavity','cej','gums','img_depressed'], augmentation=get_training_augmentation())\n",
    "print(dataset.class_values)\n",
    "image, mask = dataset[15] # get some sample\n",
    "\n",
    "visualize(\n",
    "    image=image, \n",
    "    arg_black_space=mask[..., 0].squeeze(),\n",
    "    whiteside_mask=mask[..., 1].squeeze(),\n",
    "    background_mask=mask[..., 2].squeeze(),\n",
    "    bacmixgums_mask=mask[..., 3].squeeze(),\n",
    "    artifical_crown_mask =mask[..., 4].squeeze(),\n",
    "    tooth_mask =mask[..., 5].squeeze(),\n",
    "    overlap_mask=mask[..., 6].squeeze(),\n",
    "    cavity_mask =mask[..., 7].squeeze(),\n",
    "    cej_mask=mask[..., 8].squeeze(),\n",
    "    gums_mask =mask[..., 9].squeeze(),\n",
    "    img_depressed_mask=mask[..., 10].squeeze(),\n",
    ")\n",
    "\n",
    "print(image.shape)\n",
    "print(mask.shape)"
   ]
  },
  {
   "cell_type": "code",
   "execution_count": 19,
   "metadata": {},
   "outputs": [],
   "source": [
    "# # Lets look at augmented data we have\n",
    "# dataset = Dataset(x_train_dir, y_train_dir, classes=['img_whiteside','background','bacmixgums', 'artifical_crown','tooth','overlap','cavity','cej','gums','img_depressed'], augmentation=get_fine_tune_augmentation())\n",
    "\n",
    "# image, mask = dataset[1] # get some sample\n",
    "# visualize(\n",
    "#     image=image, \n",
    "#     arg_black_space=mask[..., 0].squeeze(),\n",
    "#     whiteside_mask=mask[..., 1].squeeze(),\n",
    "# #     background_mask=mask[..., 2].squeeze(),\n",
    "# #     bacmixgums_mask=mask[..., 3].squeeze(),\n",
    "# #     artifical_crown_mask =mask[..., 4].squeeze(),\n",
    "# #     tooth_mask =mask[..., 5].squeeze(),\n",
    "# #     overlap_mask=mask[..., 6].squeeze(),\n",
    "# #     cavity_mask =mask[..., 7].squeeze(),\n",
    "# #     cej_mask=mask[..., 8].squeeze(),\n",
    "# #     gums_mask =mask[..., 9].squeeze(),\n",
    "# #     img_depressed_mask=mask[..., 10].squeeze(),\n",
    "# )\n",
    "# print(image.shape)"
   ]
  },
  {
   "cell_type": "code",
   "execution_count": 20,
   "metadata": {},
   "outputs": [],
   "source": [
    "# print(mask[..., 0].squeeze().shape)\n",
    "# print(sum(sum(mask[..., 5].squeeze())))"
   ]
  },
  {
   "cell_type": "code",
   "execution_count": 21,
   "metadata": {},
   "outputs": [
    {
     "data": {
      "image/png": "[encoded data removed]",
      "text/plain": [
       "<Figure size 1152x360 with 1 Axes>"
      ]
     },
     "metadata": {},
     "output_type": "display_data"
    },
    {
     "name": "stdout",
     "output_type": "stream",
     "text": [
      "(1280, 1280, 3)\n"
     ]
    }
   ],
   "source": [
    "# Lets look at augmented data we have\n",
    "dataset = Dataset(x_train_dir, y_train_dir, classes=['img_whiteside','background','bacmixgums', 'artifical_crown','tooth','overlap','cavity','cej','gums','img_depressed'], augmentation=get_fine_tune_augmentation())\n",
    "\n",
    "image, mask = dataset[1] # get some sample\n",
    "visualize(\n",
    "    image=image, \n",
    "#     arg_black_space=mask[..., 0].squeeze(),\n",
    "#     whiteside_mask=mask[..., 1].squeeze(),\n",
    "#     background_mask=mask[..., 2].squeeze(),\n",
    "#     bacmixgums_mask=mask[..., 3].squeeze(),\n",
    "#     artifical_crown_mask =mask[..., 4].squeeze(),\n",
    "#     tooth_mask =mask[..., 5].squeeze(),\n",
    "#     overlap_mask=mask[..., 6].squeeze(),\n",
    "#     cavity_mask =mask[..., 7].squeeze(),\n",
    "#     cej_mask=mask[..., 8].squeeze(),\n",
    "#     gums_mask =mask[..., 9].squeeze(),\n",
    "#     img_depressed_mask=mask[..., 10].squeeze(),\n",
    ")\n",
    "print(image.shape)"
   ]
  },
  {
   "cell_type": "markdown",
   "metadata": {},
   "source": [
    "# Segmentation model training"
   ]
  },
  {
   "cell_type": "code",
   "execution_count": 22,
   "metadata": {},
   "outputs": [
    {
     "name": "stdout",
     "output_type": "stream",
     "text": [
      "Segmentation Models: using `keras` framework.\n"
     ]
    }
   ],
   "source": [
    "import segmentation_models as sm\n",
    "\n",
    "# segmentation_models could also use `tf.keras` if you do not have Keras installed\n",
    "# or you could switch to other framework using `sm.set_framework('tf.keras')`"
   ]
  },
  {
   "cell_type": "code",
   "execution_count": 23,
   "metadata": {},
   "outputs": [],
   "source": [
    "BACKBONE = 'efficientnetb3'\n",
    "BATCH_SIZE = 2 #改成1\n",
    "CLASSES = ['img_whiteside','background','bacmixgums', 'artifical_crown','tooth','overlap','cavity','cej','gums','img_depressed']\n",
    "#['background','bacmixgums', 'artifical_crown','tooth','gums','overlap','cavity','cej']\n",
    "LR = 0.0001 \n",
    "#defult LR = 0.0001\n",
    "EPOCHS = 100\n",
    "\n",
    "preprocess_input = sm.get_preprocessing(BACKBONE)"
   ]
  },
  {
   "cell_type": "code",
   "execution_count": 24,
   "metadata": {},
   "outputs": [],
   "source": [
    "# define network parameters\n",
    "n_classes = 1 if len(CLASSES) == 1 else (len(CLASSES) + 1)  # case for binary and multiclass segmentation\n",
    "activation = 'sigmoid' if n_classes == 1 else 'softmax'\n",
    "#create model\n",
    "model = sm.Unet(BACKBONE, classes=n_classes, activation=activation)"
   ]
  },
  {
   "cell_type": "code",
   "execution_count": 25,
   "metadata": {},
   "outputs": [],
   "source": [
    "# define optomizer\n",
    "optim = keras.optimizers.Adam(LR)\n",
    "\n",
    "# Segmentation models losses can be combined together by '+' and scaled by integer or float factor\n",
    "# set class weights for dice_loss (car: 1.; pedestrian: 2.; background: 0.5;)\n",
    "dice_loss = sm.losses.DiceLoss(class_weights=np.array([0.5, 1, 1, 1.5, 1.5, 2, 4, 2, 2, 2, 3])) \n",
    "focal_loss = sm.losses.BinaryFocalLoss() if n_classes == 1 else sm.losses.CategoricalFocalLoss()\n",
    "total_loss = dice_loss + (1 * focal_loss)\n",
    "\n",
    "# actulally total_loss can be imported directly from library, above example just show you how to manipulate with losses\n",
    "# total_loss = sm.losses.binary_focal_dice_loss # or sm.losses.categorical_focal_dice_loss \n",
    "\n",
    "metrics = [sm.metrics.IOUScore(threshold=0.5), sm.metrics.FScore(threshold=0.5)]\n",
    "\n",
    "# compile keras model with defined optimozer, loss and metrics\n",
    "model.compile(optim, total_loss, metrics)"
   ]
  },
  {
   "cell_type": "code",
   "execution_count": 26,
   "metadata": {},
   "outputs": [],
   "source": [
    "# # model.summary()\n",
    "# model.summary()"
   ]
  },
  {
   "cell_type": "code",
   "execution_count": 28,
   "metadata": {},
   "outputs": [],
   "source": [
    "data_folder_name = '0801'"
   ]
  },
  {
   "cell_type": "code",
   "execution_count": 29,
   "metadata": {},
   "outputs": [],
   "source": [
    "# Dataset for train images\n",
    "train_dataset = Dataset(\n",
    "    x_train_dir, \n",
    "    y_train_dir, \n",
    "    classes=CLASSES, \n",
    "    augmentation=get_training_augmentation(),\n",
    "    preprocessing=get_preprocessing(preprocess_input),\n",
    ")\n",
    "\n",
    "training_enhance_dataset = Dataset(\n",
    "    x_train_dir, \n",
    "    y_train_dir, \n",
    "    classes=CLASSES, \n",
    "    augmentation=get_training_enhance_augmentation(),\n",
    "    preprocessing=get_preprocessing(preprocess_input),\n",
    ")\n",
    "\n",
    "train_dataloader = Dataloder(train_dataset, batch_size=BATCH_SIZE, shuffle=True)\n",
    "training_enhance_dataloader = Dataloder(training_enhance_dataset, batch_size=BATCH_SIZE, shuffle=True)\n",
    "\n",
    "# #valid_dataloader = Dataloder(valid_dataset, batch_size=1, shuffle=False)\n",
    "# valid_dataset = Dataset(\n",
    "#     x_val_dir, \n",
    "#     y_val_dir, \n",
    "#     classes=CLASSES, \n",
    "#     augmentation=get_training_augmentation(),\n",
    "#     preprocessing=get_preprocessing(preprocess_input),\n",
    "# )\n",
    "\n",
    "# valid_dataloader = Dataloder(valid_dataset, batch_size=BATCH_SIZE, shuffle=True)\n",
    "\n",
    "# check shapes for errors\n",
    "assert train_dataloader[0][0].shape == (BATCH_SIZE, set_size, set_size, 3)\n",
    "assert train_dataloader[0][1].shape == (BATCH_SIZE, set_size, set_size, n_classes)\n",
    "\n",
    "# define callbacks for learning rate scheduling and best checkpoints saving\n",
    "callbacks = [\n",
    "    keras.callbacks.ModelCheckpoint('./weight/{}_train_ten_classes_20.h5'.format(data_folder_name), monitor=\"val_acc\", save_weights_only=True, save_best_only=True, mode='auto'),\n",
    "    keras.callbacks.ReduceLROnPlateau(),\n",
    "]"
   ]
  },
  {
   "cell_type": "code",
   "execution_count": null,
   "metadata": {},
   "outputs": [],
   "source": []
  },
  {
   "cell_type": "code",
   "execution_count": null,
   "metadata": {},
   "outputs": [],
   "source": []
  },
  {
   "cell_type": "code",
   "execution_count": 30,
   "metadata": {},
   "outputs": [
    {
     "name": "stdout",
     "output_type": "stream",
     "text": [
      "Epoch 1/20\n",
      "74/74 [==============================] - 148s 2s/step - loss: 0.8310 - iou_score: 0.1391 - f1-score: 0.1639\n",
      "Epoch 2/20\n"
     ]
    },
    {
     "name": "stderr",
     "output_type": "stream",
     "text": [
      "/opt/conda/lib/python3.6/site-packages/keras/callbacks/callbacks.py:707: RuntimeWarning: Can save best model only with val_acc available, skipping.\n",
      "  'skipping.' % (self.monitor), RuntimeWarning)\n",
      "/opt/conda/lib/python3.6/site-packages/keras/callbacks/callbacks.py:1042: RuntimeWarning: Reduce LR on plateau conditioned on metric `val_loss` which is not available. Available metrics are: loss,iou_score,f1-score,lr\n",
      "  (self.monitor, ','.join(list(logs.keys()))), RuntimeWarning\n"
     ]
    },
    {
     "name": "stdout",
     "output_type": "stream",
     "text": [
      "74/74 [==============================] - 78s 1s/step - loss: 0.6139 - iou_score: 0.3179 - f1-score: 0.3834\n",
      "Epoch 3/20\n",
      "74/74 [==============================] - 78s 1s/step - loss: 0.4893 - iou_score: 0.4429 - f1-score: 0.5284\n",
      "Epoch 4/20\n",
      "74/74 [==============================] - 79s 1s/step - loss: 0.4044 - iou_score: 0.4937 - f1-score: 0.5761\n",
      "Epoch 5/20\n",
      "74/74 [==============================] - 78s 1s/step - loss: 0.3249 - iou_score: 0.5464 - f1-score: 0.6381\n",
      "Epoch 6/20\n",
      "74/74 [==============================] - 78s 1s/step - loss: 0.2506 - iou_score: 0.5322 - f1-score: 0.6239\n",
      "Epoch 7/20\n",
      "74/74 [==============================] - 78s 1s/step - loss: 0.1396 - iou_score: 0.5503 - f1-score: 0.6454\n",
      "Epoch 8/20\n",
      "74/74 [==============================] - 78s 1s/step - loss: 0.0294 - iou_score: 0.5710 - f1-score: 0.6766\n",
      "Epoch 9/20\n",
      "74/74 [==============================] - 79s 1s/step - loss: -0.0638 - iou_score: 0.5962 - f1-score: 0.6978\n",
      "Epoch 10/20\n",
      "74/74 [==============================] - 77s 1s/step - loss: -0.1139 - iou_score: 0.6079 - f1-score: 0.7090\n",
      "Epoch 11/20\n",
      "74/74 [==============================] - 77s 1s/step - loss: -0.1302 - iou_score: 0.6058 - f1-score: 0.7071\n",
      "Epoch 12/20\n",
      "74/74 [==============================] - 79s 1s/step - loss: -0.1584 - iou_score: 0.6174 - f1-score: 0.7174\n",
      "Epoch 13/20\n",
      "74/74 [==============================] - 78s 1s/step - loss: -0.2018 - iou_score: 0.6303 - f1-score: 0.7282\n",
      "Epoch 14/20\n",
      "74/74 [==============================] - 77s 1s/step - loss: -0.2358 - iou_score: 0.6443 - f1-score: 0.7415\n",
      "Epoch 15/20\n",
      "74/74 [==============================] - 77s 1s/step - loss: -0.2306 - iou_score: 0.6427 - f1-score: 0.7396\n",
      "Epoch 16/20\n",
      "74/74 [==============================] - 77s 1s/step - loss: -0.2308 - iou_score: 0.6390 - f1-score: 0.7349\n",
      "Epoch 17/20\n",
      "74/74 [==============================] - 77s 1s/step - loss: -0.2541 - iou_score: 0.6481 - f1-score: 0.7434\n",
      "Epoch 18/20\n",
      "74/74 [==============================] - 77s 1s/step - loss: -0.2632 - iou_score: 0.6546 - f1-score: 0.7484\n",
      "Epoch 19/20\n",
      "74/74 [==============================] - 78s 1s/step - loss: -0.2861 - iou_score: 0.6640 - f1-score: 0.7566\n",
      "Epoch 20/20\n",
      "74/74 [==============================] - 81s 1s/step - loss: -0.2897 - iou_score: 0.6642 - f1-score: 0.7557\n"
     ]
    }
   ],
   "source": [
    "if training:\n",
    "    # train model\n",
    "    history = model.fit_generator(\n",
    "        train_dataloader, \n",
    "        steps_per_epoch=len(train_dataloader), \n",
    "        epochs=20, \n",
    "        callbacks=callbacks, \n",
    "#         validation_data=valid_dataloader, \n",
    "#         validation_steps=len(valid_dataloader),\n",
    "    )\n",
    "\n",
    "    model.save('./weight/{}_train_ten_classes_20.h5'.format(data_folder_name))\n",
    "    "
   ]
  },
  {
   "cell_type": "code",
   "execution_count": null,
   "metadata": {},
   "outputs": [],
   "source": []
  },
  {
   "cell_type": "code",
   "execution_count": null,
   "metadata": {},
   "outputs": [],
   "source": []
  },
  {
   "cell_type": "code",
   "execution_count": null,
   "metadata": {},
   "outputs": [
    {
     "name": "stdout",
     "output_type": "stream",
     "text": [
      "Epoch 1/20\n",
      "74/74 [==============================] - 80s 1s/step - loss: -0.3046 - iou_score: 0.6721 - f1-score: 0.7621\n",
      "Epoch 2/20\n",
      "74/74 [==============================] - 77s 1s/step - loss: -0.3072 - iou_score: 0.6715 - f1-score: 0.7619\n",
      "Epoch 3/20\n",
      "74/74 [==============================] - 77s 1s/step - loss: -0.3206 - iou_score: 0.6819 - f1-score: 0.7709\n",
      "Epoch 4/20\n",
      "74/74 [==============================] - 76s 1s/step - loss: -0.3228 - iou_score: 0.6774 - f1-score: 0.7671\n",
      "Epoch 5/20\n",
      "74/74 [==============================] - 77s 1s/step - loss: -0.3442 - iou_score: 0.6881 - f1-score: 0.7761\n",
      "Epoch 6/20\n",
      "74/74 [==============================] - 76s 1s/step - loss: -0.3297 - iou_score: 0.6861 - f1-score: 0.7744\n",
      "Epoch 7/20\n",
      "74/74 [==============================] - 77s 1s/step - loss: -0.3225 - iou_score: 0.6792 - f1-score: 0.7690\n",
      "Epoch 8/20\n",
      "74/74 [==============================] - 78s 1s/step - loss: -0.3503 - iou_score: 0.6959 - f1-score: 0.7822\n",
      "Epoch 9/20\n",
      "74/74 [==============================] - 80s 1s/step - loss: -0.3454 - iou_score: 0.6920 - f1-score: 0.7791\n",
      "Epoch 10/20\n",
      "74/74 [==============================] - 78s 1s/step - loss: -0.3554 - iou_score: 0.6940 - f1-score: 0.7801\n",
      "Epoch 11/20\n",
      "15/74 [=====>........................] - ETA: 1:05 - loss: -0.3247 - iou_score: 0.6709 - f1-score: 0.7588"
     ]
    }
   ],
   "source": [
    "if training:\n",
    "    # train model\n",
    "    history = model.fit_generator(\n",
    "        train_dataloader, \n",
    "        steps_per_epoch=len(train_dataloader), \n",
    "        epochs=20, \n",
    "        callbacks=callbacks, \n",
    "#         validation_data=valid_dataloader, \n",
    "#         validation_steps=len(valid_dataloader),\n",
    "    )\n",
    "\n",
    "    model.save('./weight/{}_train_ten_classes_40.h5'.format(data_folder_name))\n",
    "    "
   ]
  },
  {
   "cell_type": "code",
   "execution_count": null,
   "metadata": {},
   "outputs": [],
   "source": []
  },
  {
   "cell_type": "code",
   "execution_count": null,
   "metadata": {},
   "outputs": [],
   "source": [
    "if training:\n",
    "    # train model\n",
    "    history = model.fit_generator(\n",
    "        train_dataloader, \n",
    "        steps_per_epoch=len(train_dataloader), \n",
    "        epochs=20, \n",
    "        callbacks=callbacks, \n",
    "#         validation_data=valid_dataloader, \n",
    "#         validation_steps=len(valid_dataloader),\n",
    "    )\n",
    "\n",
    "    model.save('./weight/{}_train_ten_classes_60.h5'.format(data_folder_name))"
   ]
  },
  {
   "cell_type": "code",
   "execution_count": null,
   "metadata": {},
   "outputs": [],
   "source": []
  },
  {
   "cell_type": "code",
   "execution_count": null,
   "metadata": {},
   "outputs": [],
   "source": [
    "if training:\n",
    "    # train model\n",
    "    history = model.fit_generator(\n",
    "        train_dataloader, \n",
    "        steps_per_epoch=len(train_dataloader), \n",
    "        epochs=20, \n",
    "        callbacks=callbacks, \n",
    "#         validation_data=valid_dataloader, \n",
    "#         validation_steps=len(valid_dataloader),\n",
    "    )\n",
    "\n",
    "    model.save('./weight/{}_train_ten_classes_80.h5'.format(data_folder_name))\n",
    "    "
   ]
  },
  {
   "cell_type": "code",
   "execution_count": null,
   "metadata": {},
   "outputs": [],
   "source": []
  },
  {
   "cell_type": "code",
   "execution_count": null,
   "metadata": {},
   "outputs": [],
   "source": [
    "if training:\n",
    "    # train model\n",
    "    history = model.fit_generator(\n",
    "        train_dataloader, \n",
    "        steps_per_epoch=len(train_dataloader), \n",
    "        epochs=20, \n",
    "        callbacks=callbacks, \n",
    "#         validation_data=valid_dataloader, \n",
    "#         validation_steps=len(valid_dataloader),\n",
    "    )\n",
    "    model.save('./weight/{}_train_ten_classes_100.h5'.format(data_folder_name))\n",
    "    "
   ]
  },
  {
   "cell_type": "code",
   "execution_count": null,
   "metadata": {},
   "outputs": [],
   "source": []
  },
  {
   "cell_type": "code",
   "execution_count": null,
   "metadata": {},
   "outputs": [],
   "source": [
    "if training:\n",
    "    # train model\n",
    "    history = model.fit_generator(\n",
    "        train_dataloader, \n",
    "        steps_per_epoch=len(train_dataloader), \n",
    "        epochs=20, \n",
    "        callbacks=callbacks, \n",
    "#         validation_data=valid_dataloader, \n",
    "#         validation_steps=len(valid_dataloader),\n",
    "    )\n",
    "\n",
    "    model.save('./weight/{}_train_ten_classes_120.h5'.format(data_folder_name))\n",
    "    "
   ]
  },
  {
   "cell_type": "code",
   "execution_count": null,
   "metadata": {},
   "outputs": [],
   "source": []
  },
  {
   "cell_type": "code",
   "execution_count": null,
   "metadata": {},
   "outputs": [],
   "source": [
    "if training:\n",
    "    # train model\n",
    "    history = model.fit_generator(\n",
    "        train_dataloader, \n",
    "        steps_per_epoch=len(train_dataloader), \n",
    "        epochs=20, \n",
    "        callbacks=callbacks, \n",
    "#         validation_data=valid_dataloader, \n",
    "#         validation_steps=len(valid_dataloader),\n",
    "    )\n",
    "\n",
    "    model.save('./weight/{}_train_ten_classes_140.h5'.format(data_folder_name))\n",
    "    "
   ]
  },
  {
   "cell_type": "code",
   "execution_count": null,
   "metadata": {},
   "outputs": [],
   "source": [
    "assert 1<0 , 'stop'"
   ]
  },
  {
   "cell_type": "code",
   "execution_count": null,
   "metadata": {},
   "outputs": [],
   "source": [
    "# load best weights\n",
    "model.load_weights('./weight/{}_train_ten_classes_ford2_140.h5'.format(data_folder_name)) "
   ]
  },
  {
   "cell_type": "code",
   "execution_count": null,
   "metadata": {},
   "outputs": [],
   "source": [
    "\n",
    "# fine_tune_dataset = Dataset(\n",
    "#     x_train_dir, \n",
    "#     y_train_dir, \n",
    "#     classes=CLASSES, \n",
    "#     augmentation=get_fine_tune_augmentation(),\n",
    "#     preprocessing=get_preprocessing(preprocess_input),\n",
    "# )\n",
    "\n",
    "# fine_tune_dataloader = Dataloder(fine_tune_dataset, batch_size=BATCH_SIZE, shuffle=True)\n",
    "\n",
    "# # check shapes for errors\n",
    "# assert fine_tune_dataloader[0][0].shape == (BATCH_SIZE, set_size, set_size, 3)\n",
    "# assert fine_tune_dataloader[0][1].shape == (BATCH_SIZE, set_size, set_size, n_classes)\n",
    "\n",
    "# # define callbacks for learning rate scheduling and best checkpoints saving\n",
    "# callbacks = [\n",
    "#     keras.callbacks.ModelCheckpoint('../../weight/{}_ten_classes_fine_tune_ford2.h5'.format(data_folder_name), monitor=\"val_acc\", save_weights_only=True, save_best_only=True, mode='max'),\n",
    "#     keras.callbacks.ReduceLROnPlateau(),\n",
    "# ]"
   ]
  },
  {
   "cell_type": "code",
   "execution_count": null,
   "metadata": {},
   "outputs": [],
   "source": []
  },
  {
   "cell_type": "code",
   "execution_count": null,
   "metadata": {},
   "outputs": [],
   "source": [
    "# if training:\n",
    "#     # train model\n",
    "#     history = model.fit_generator(\n",
    "#         fine_tune_dataloader, \n",
    "#         steps_per_epoch=len(fine_tune_dataloader), \n",
    "#         epochs=20, \n",
    "#         callbacks=callbacks, \n",
    "#         #validation_data=valid_dataloader, \n",
    "#         #validation_steps=len(valid_dataloader),\n",
    "#     )\n",
    "\n",
    "#     model.save('../../weight/{}_ten_classes_fine_tune.h5'.format(data_folder_name))\n",
    "    "
   ]
  },
  {
   "cell_type": "code",
   "execution_count": null,
   "metadata": {},
   "outputs": [],
   "source": [
    "# if training:\n",
    "#     # Plot training & validation iou_score values\n",
    "#     plt.figure(figsize=(30, 5))\n",
    "#     plt.subplot(121)\n",
    "#     plt.plot(history.history['iou_score'])\n",
    "#     #plt.plot(history.history['val_iou_score'])\n",
    "#     plt.title('Model iou_score')\n",
    "#     plt.ylabel('iou_score')\n",
    "#     plt.xlabel('Epoch')\n",
    "#     plt.legend(['Train', 'Test'], loc='upper left')\n",
    "\n",
    "#     # Plot training & validation loss values\n",
    "#     plt.subplot(122)\n",
    "#     plt.plot(history.history['loss'])\n",
    "#     #plt.plot(history.history['val_loss'])\n",
    "#     plt.title('Model loss')\n",
    "#     plt.ylabel('Loss')\n",
    "#     plt.xlabel('Epoch')\n",
    "#     plt.legend(['Train', 'Test'], loc='upper left')\n",
    "#     plt.show()"
   ]
  },
  {
   "cell_type": "code",
   "execution_count": null,
   "metadata": {},
   "outputs": [],
   "source": []
  },
  {
   "cell_type": "code",
   "execution_count": null,
   "metadata": {},
   "outputs": [],
   "source": []
  },
  {
   "cell_type": "code",
   "execution_count": null,
   "metadata": {},
   "outputs": [],
   "source": []
  }
 ],
 "metadata": {
  "interpreter": {
   "hash": "10f51b946b30f17bfd5e37e59dddf99199249b3ffc3dcc7693bb105201e3b579"
  },
  "kernelspec": {
   "display_name": "Python 3",
   "language": "python",
   "name": "python3"
  },
  "language_info": {
   "codemirror_mode": {
    "name": "ipython",
    "version": 3
   },
   "file_extension": ".py",
   "mimetype": "text/x-python",
   "name": "python",
   "nbconvert_exporter": "python",
   "pygments_lexer": "ipython3",
   "version": "3.6.7"
  }
 },
 "nbformat": 4,
 "nbformat_minor": 4
}
