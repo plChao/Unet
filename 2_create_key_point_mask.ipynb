{
 "cells": [
  {
   "cell_type": "code",
   "execution_count": null,
   "metadata": {},
   "outputs": [],
   "source": [
    "import os\n",
    "import cv2\n",
    "import sys\n",
    "import json\n",
    "import math\n",
    "import glob\n",
    "import pandas as pd\n",
    "import numpy as np\n",
    "import matplotlib.pyplot as plt\n",
    "import seaborn as sns\n",
    "from pandas import json_normalize\n",
    "from skimage.io import imshow\n",
    "\n",
    "from tqdm.notebook import tqdm as tqdm"
   ]
  },
  {
   "cell_type": "code",
   "execution_count": null,
   "metadata": {},
   "outputs": [],
   "source": [
    "ori_img_path_list = glob.glob('./data/raw_data/*.PNG') \n",
    "f = open('./label_json/key_point_json/label (25) JC_ABL_modify.json')\n",
    "info = json.load(f)"
   ]
  },
  {
   "cell_type": "code",
   "execution_count": null,
   "metadata": {},
   "outputs": [],
   "source": [
    "point_data = info['_via_img_metadata']\n",
    "limit = 27\n",
    "for key in point_data:\n",
    "    if limit <= 0:\n",
    "        break\n",
    "    limit-=1\n",
    "\n",
    "    img_file_name = point_data[key]['filename']\n",
    "    img_name = point_data[key]['filename'].split('.')[0]\n",
    "    ori_path = [x for x in ori_img_path_list if img_name in x]\n",
    "    assert len(ori_path) == 1, ori_path\n",
    "    ori_img = cv2.imread(ori_path[0], cv2.IMREAD_GRAYSCALE)\n",
    "    print(ori_img.shape)\n",
    "    \n",
    "    # get key point\n",
    "    points_df = json_normalize(point_data[key]['regions'])\n",
    "    if len(points_df) == 0:\n",
    "        print('have not label')\n",
    "        continue\n",
    "    col = list(points_df.columns)\n",
    "    change_name = dict(zip(col,[x.split('.')[-1] for x in col]))\n",
    "    points_df.rename(columns=change_name, inplace=True)\n",
    "    # print(points_df[:10])\n",
    "    # set_others_value = 0.4\n",
    "    key_points = []\n",
    "    for id, row in points_df.iterrows():\n",
    "        if row['type'] in ['CEJ', 'A_BL', 'apex']:\n",
    "            key_points.append((row['cx'], row['cy']))\n",
    "    mask = np.zeros_like(ori_img)\n",
    "    def dist(p, q):\n",
    "        return math.sqrt(sum((px - qx) ** 2.0 for px, qx in zip(p, q)))\n",
    "    def weighted_function_1(d1, w_0=10, sigma=5):\n",
    "        return w_0*math.exp(-(d1)**2/(2*sigma**2))\n",
    "    for (x,y), value in np.ndenumerate(mask):\n",
    "        distances = [dist((x, y), key) for key in key_points]\n",
    "        mask[x][y] = weighted_function_1(min(distances))\n",
    "    cv2.imwrite('./key_point_mask/'+img_file_name+'.PNG', mask)\n",
    "\n",
    "    \n"
   ]
  }
 ],
 "metadata": {
  "interpreter": {
   "hash": "1ea5c2fb967e45f466cd5d281ddccb65103494ffc469efd4a8f43647c78c79b1"
  },
  "kernelspec": {
   "display_name": "Python 3.6.13 64-bit ('segment-gpu': conda)",
   "language": "python",
   "name": "python3"
  },
  "language_info": {
   "codemirror_mode": {
    "name": "ipython",
    "version": 3
   },
   "file_extension": ".py",
   "mimetype": "text/x-python",
   "name": "python",
   "nbconvert_exporter": "python",
   "pygments_lexer": "ipython3",
   "version": "3.6.13"
  },
  "orig_nbformat": 4
 },
 "nbformat": 4,
 "nbformat_minor": 2
}
