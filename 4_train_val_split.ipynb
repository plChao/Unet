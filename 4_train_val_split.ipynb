{
 "cells": [
  {
   "cell_type": "code",
   "execution_count": 6,
   "source": [
    "import os\n",
    "import glob\n",
    "import random\n",
    "from shutil import copyfile\n",
    "train_ratio = 0.8\n",
    "# copyfile(src, dst)\n",
    "img_list = glob.glob('./label/label_for_train/*.PNG')\n",
    "random.shuffle(img_list)\n",
    "train_img_list = img_list[:int(len(img_list)*0.8)]\n",
    "val_img_list = img_list[int(len(img_list)*0.8):]\n",
    "\n",
    "print(len(train_img_list), len(val_img_list))\n",
    "\n",
    "for train_img in train_img_list:\n",
    "    copyfile(train_img, train_img.replace(\"label_for_train\", \"train_label\"))\n",
    "for val_img in val_img_list:\n",
    "    copyfile(val_img, val_img.replace(\"label_for_train\", \"val_label\"))"
   ],
   "outputs": [
    {
     "output_type": "stream",
     "name": "stdout",
     "text": [
      "160 40\n"
     ]
    }
   ],
   "metadata": {}
  },
  {
   "cell_type": "code",
   "execution_count": null,
   "source": [],
   "outputs": [],
   "metadata": {}
  }
 ],
 "metadata": {
  "orig_nbformat": 4,
  "language_info": {
   "name": "python",
   "version": "3.6.13",
   "mimetype": "text/x-python",
   "codemirror_mode": {
    "name": "ipython",
    "version": 3
   },
   "pygments_lexer": "ipython3",
   "nbconvert_exporter": "python",
   "file_extension": ".py"
  },
  "kernelspec": {
   "name": "python3",
   "display_name": "Python 3.6.13 64-bit ('segment-gpu': conda)"
  },
  "interpreter": {
   "hash": "10f51b946b30f17bfd5e37e59dddf99199249b3ffc3dcc7693bb105201e3b579"
  }
 },
 "nbformat": 4,
 "nbformat_minor": 2
}