{
 "cells": [
  {
   "cell_type": "code",
   "execution_count": null,
   "metadata": {},
   "outputs": [],
   "source": [
    "import os\n",
    "import csv\n",
    "import cv2\n",
    "import math\n",
    "import time\n",
    "import json\n",
    "import glob\n",
    "import shutil\n",
    "import pandas as pd\n",
    "import numpy as np\n",
    "import matplotlib.pyplot as plt\n",
    "\n",
    "from tqdm.notebook import tqdm as tqdm\n"
   ]
  },
  {
   "cell_type": "code",
   "execution_count": null,
   "metadata": {},
   "outputs": [],
   "source": [
    "# Input\n",
    "# TODO 預測的 mask 結果資料夾\n",
    "pred_all_crown_list = glob.glob('./result/*_pred_raw/*.PNG')\n",
    "pred_all_crown_list.sort()\n",
    "assert len(pred_all_crown_list) != 0, 'wrong pred path'\n",
    "# TODO 要比較的 label 資料夾\n",
    "# label_folder = '../data/label_CEJline_mask_385_512/'\n",
    "label_folder = '../3-Unet-mask-process/385_cej_4_pixel_512/CEJ_line_mask/'\n",
    "# label_folder = '../data/7class_generate_tooth_mask/'\n",
    "assert len(glob.glob(label_folder + '/*.PNG')) != 0, 'wrong label path'"
   ]
  },
  {
   "cell_type": "code",
   "execution_count": null,
   "metadata": {},
   "outputs": [],
   "source": [
    "# Output\n",
    "# TODO 輸出 csv 設定，會覆蓋原始檔案\n",
    "output_csv_path = \"./IOU_csv/CEJ_385.csv\""
   ]
  },
  {
   "cell_type": "code",
   "execution_count": null,
   "metadata": {},
   "outputs": [],
   "source": [
    "def show_pixel_set(img_nparray):\n",
    "    a = img_nparray\n",
    "    unique, counts = np.unique(a, return_counts=True)\n",
    "    return dict(zip(unique, counts))\n",
    "def count_iou(label_img_gray, predict_img_gray, val):\n",
    "    label_target = np.where(label_img_gray==val, 1, 0)\n",
    "    predict_target = np.where(predict_img_gray==val, 1, 0)\n",
    "    intersection = np.logical_and(label_target, predict_target)\n",
    "    union = np.logical_or(label_target, predict_target)\n",
    "    iou_score = np.sum(intersection) / np.sum(union)\n",
    "#     print('IOU val:',iou_score)\n",
    "    return iou_score\n",
    "def count_pixel_acc(label_img_gray, predict_img_gray, val):\n",
    "    label_target = np.where(label_img_gray==val, 1, 0)\n",
    "    predict_target = np.where(predict_img_gray==val, 1, 0)\n",
    "    different = np.logical_xor(label_target, predict_target)\n",
    "    diff_score = np.sum(different) / np.sum(np.ones_like(label_img_gray))\n",
    "#     print('IOU val:',iou_score)\n",
    "    return 1 - diff_score"
   ]
  },
  {
   "cell_type": "code",
   "execution_count": null,
   "metadata": {},
   "outputs": [],
   "source": [
    "record_iou = pd.DataFrame()\n",
    "for pred_img_path in tqdm(pred_all_crown_list, total = len(pred_all_crown_list)):\n",
    "    record_dict = {}\n",
    "    img_set_type = pred_img_path.split('\\\\')[-2]\n",
    "    img_name = os.path.basename(pred_img_path)\n",
    "    record_dict['image'] = img_name\n",
    "    pre_img = cv2.imread(pred_img_path, 0)\n",
    "    label_img = cv2.imread(label_folder + '/' + img_name, 0)\n",
    "    if not os.path.exists(label_folder + '/' + img_name):\n",
    "        print('no label image ', label_folder + '/' + img_name)\n",
    "        continue\n",
    "    post_img_pth = pred_img_path.replace('result', 'result_post_process')\n",
    "    assert post_img_pth != pred_img_path, 'wrong post_img_pth' + post_img_pth\n",
    "    if os.path.exists(post_img_pth):\n",
    "        post_img = cv2.imread(post_img_pth, 0)\n",
    "        post_img = cv2.resize(post_img.astype(np.uint8), label_img.shape, interpolation=cv2.INTER_NEAREST)\n",
    "        record_dict['post_iou'] = count_iou(post_img, label_img, 255)\n",
    "        record_dict['post_PA'] = count_pixel_acc(post_img, label_img, 255)\n",
    "    record_dict['iou'] = count_iou(pre_img, label_img, 255)\n",
    "    record_dict['ratio'] = np.where(label_img != 0, 1, 0).sum() / (label_img.shape[0] ** 2)\n",
    "    record_dict['PA'] = count_pixel_acc(pre_img, label_img, 255)\n",
    "    record_dict['image_set'] = img_set_type\n",
    "    record_iou = record_iou.append(record_dict, ignore_index=True)\n",
    "record_iou.to_csv(output_csv_path)"
   ]
  },
  {
   "cell_type": "code",
   "execution_count": null,
   "metadata": {},
   "outputs": [],
   "source": [
    "def show_metrix(df):\n",
    "    print(df['PA'].describe())\n",
    "    print(df['iou'].describe())\n",
    "    plt.figure(figsize=(15, 3))\n",
    "    plt.subplot(1, 2, 1)\n",
    "    plt.hist(df['PA'], bins=100)\n",
    "    plt.title('PA')\n",
    "    plt.subplot(1, 2, 2)\n",
    "    plt.hist(df['iou'], bins=100)\n",
    "    plt.title('iou')\n",
    "    plt.show()\n",
    "def calculate_metrics(df, type=\"\"):\n",
    "    if type == 'post_':\n",
    "        ratio = np.nan\n",
    "    else:\n",
    "        ratio = np.mean(df[type+'ratio'])\n",
    "    metrics = {\n",
    "        'iou_mean': np.mean(df[type+'iou']),\n",
    "        'iou_std': np.std(df[type+'iou']),\n",
    "        'PA_mean': np.mean(df[type+'PA']),\n",
    "        'PA_std': np.std(df[type+'PA']),\n",
    "        'ratio': ratio,\n",
    "        'z_count': df[type+'iou'].notna().sum()\n",
    "    }\n",
    "    return metrics\n",
    "result_df = pd.DataFrame()\n",
    "for img_type_set in ['test', 'val', 'train']:\n",
    "    # show_metrix(df)\n",
    "    df = record_iou[record_iou.image_set == f'{img_type_set}_pred_raw']\n",
    "    metrics = calculate_metrics(df)\n",
    "    metrics['1_name'] = img_type_set\n",
    "    result_df = result_df.append(metrics, ignore_index=True)\n",
    "    if 'post_iou' in df.columns:\n",
    "        metrics = calculate_metrics(df, 'post_')\n",
    "        metrics['1_name'] = 'post_' + img_type_set\n",
    "        result_df = result_df.append(metrics, ignore_index=True)\n",
    "print(result_df.round(4))"
   ]
  },
  {
   "cell_type": "code",
   "execution_count": null,
   "metadata": {},
   "outputs": [],
   "source": [
    "result_df.to_csv('tmp.csv', index=False)"
   ]
  },
  {
   "cell_type": "code",
   "execution_count": null,
   "metadata": {},
   "outputs": [],
   "source": []
  }
 ],
 "metadata": {
  "kernelspec": {
   "display_name": "Python 3.6.13 ('segment-gpu')",
   "language": "python",
   "name": "python3"
  },
  "language_info": {
   "codemirror_mode": {
    "name": "ipython",
    "version": 3
   },
   "file_extension": ".py",
   "mimetype": "text/x-python",
   "name": "python",
   "nbconvert_exporter": "python",
   "pygments_lexer": "ipython3",
   "version": "3.8.12"
  },
  "vscode": {
   "interpreter": {
    "hash": "d5b1b23edd1e76873f5c581c9db03e5890e6b4fbab0d28dc3e030bb716ec4f19"
   }
  }
 },
 "nbformat": 4,
 "nbformat_minor": 4
}
