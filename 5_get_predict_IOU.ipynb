{
 "cells": [
  {
   "cell_type": "code",
   "execution_count": null,
   "metadata": {},
   "outputs": [],
   "source": [
    "import os\n",
    "import csv\n",
    "import cv2\n",
    "import math\n",
    "import time\n",
    "import json\n",
    "import glob\n",
    "import shutil\n",
    "import seaborn as sn\n",
    "import seaborn as sns\n",
    "import pandas as pd\n",
    "import numpy as np\n",
    "import matplotlib.pyplot as plt\n",
    "\n",
    "from tqdm.notebook import tqdm as tqdm\n",
    "from tabulate import tabulate"
   ]
  },
  {
   "cell_type": "code",
   "execution_count": null,
   "metadata": {},
   "outputs": [],
   "source": [
    "experiment_name = \"0908_164_set_60\"\n",
    "# 用以區別 csv 檔名稱\n",
    "Resave = False\n",
    "# 避免覆蓋，確定要覆蓋再改 true\n",
    "label_all_crown = './result/seg_raw/*.PNG'\n",
    "# 放 Unet_test.ipynb 跑出來的 label\n",
    "label_all_crown_list = glob.glob(label_all_crown)\n",
    "label_all_crown_list.sort()\n",
    "print(len(label_all_crown_list))"
   ]
  },
  {
   "cell_type": "code",
   "execution_count": null,
   "metadata": {},
   "outputs": [],
   "source": [
    "pred_all_crown = './label/visual_label/*.PNG'\n",
    "# 放 test 資料夾裡原本給的 label\n",
    "pred_all_crown_list = glob.glob(pred_all_crown)\n",
    "pred_all_crown_list.sort()\n",
    "print(len(pred_all_crown_list))"
   ]
  },
  {
   "cell_type": "code",
   "execution_count": null,
   "metadata": {},
   "outputs": [],
   "source": [
    "def show_pixel_set(img_nparray):\n",
    "    a = img_nparray\n",
    "    unique, counts = np.unique(a, return_counts=True)\n",
    "    return dict(zip(unique, counts))"
   ]
  },
  {
   "cell_type": "code",
   "execution_count": null,
   "metadata": {},
   "outputs": [],
   "source": [
    "def count_iou(label_img_gray, predict_img_gray, val):\n",
    "    label_target = np.where(label_img_gray==val, 1, 0)\n",
    "    predict_target = np.where(predict_img_gray==val, 1, 0)\n",
    "    intersection = np.logical_and(label_target, predict_target)\n",
    "    union = np.logical_or(label_target, predict_target)\n",
    "    iou_score = np.sum(intersection) / np.sum(union)\n",
    "#     print('IOU val:',iou_score)\n",
    "    return iou_score"
   ]
  },
  {
   "cell_type": "code",
   "execution_count": null,
   "metadata": {},
   "outputs": [],
   "source": [
    "def show_iou(label_img, predict_img, row_contents):\n",
    "    label_img_gray = cv2.cvtColor(label_img, cv2.COLOR_BGR2GRAY)\n",
    "    predict_img_gray = cv2.cvtColor(predict_img, cv2.COLOR_BGR2GRAY)\n",
    "    gray_pixel_dict = {'img_background': 0, 'img_gums': 29,\n",
    "                     'img_cavity': 76, 'img_bacmixgums': 86,\n",
    "                     'img_overlap': 105, 'img_cej': 150,\n",
    "                     'img_depressed': 151, 'img_artifical_crown': 179,\n",
    "                     'img_tooth': 226, 'img_whiteside': 255}\n",
    "    for target in gray_pixel_dict:\n",
    "#         print('class {}:'.format(target))\n",
    "        IOU_scale = count_iou(label_img_gray, predict_img_gray, gray_pixel_dict[target])\n",
    "        row_contents.append(IOU_scale)\n",
    "    return row_contents"
   ]
  },
  {
   "cell_type": "code",
   "execution_count": null,
   "metadata": {},
   "outputs": [],
   "source": [
    "def append_list_as_row(file_name, list_of_elem):\n",
    "    # Open file in append mode\n",
    "    with open(file_name, 'a+', newline='') as write_obj:\n",
    "        # Create a writer object from csv module\n",
    "        csv_writer = csv.writer(write_obj)\n",
    "        # Add contents of list as last row in the csv file\n",
    "        csv_writer.writerow(list_of_elem)"
   ]
  },
  {
   "cell_type": "code",
   "execution_count": null,
   "metadata": {},
   "outputs": [],
   "source": [
    "#initial csv file\n",
    "csv_file_path = './IOU_csv/{}_IOU_result.csv'.format(experiment_name)\n",
    "\n",
    "assert not os.path.exists(csv_file_path) or Resave, \"This csv file is exist,if want to resave please modify Resave parameter.\"\n",
    "\n",
    "print('Initial the csv.')\n",
    "with open(csv_file_path, 'w', newline='\\n') as csvfile:\n",
    "    csv_writer = csv.writer(csvfile)\n",
    "    csv_writer.writerow(['Image_name', 'background IOU', 'gums IOU', 'cavity IOU', 'bacmixgums IOU',\n",
    "                         'overlap IOU','cej IOU','depressed IOU','artifical_crown IOU','tooth IOU',\n",
    "                        'whiteside IOU'])"
   ]
  },
  {
   "cell_type": "code",
   "execution_count": null,
   "metadata": {},
   "outputs": [],
   "source": [
    "for all_crown in tqdm(label_all_crown_list, total = len(label_all_crown_list)):\n",
    "    row_contents = []\n",
    "    img_name = os.path.basename(all_crown)\n",
    "    pre_target = [img_path for img_path in pred_all_crown_list if img_name in img_path]\n",
    "#     shutil.copyfile(pre_target[0], os.path.join(save_pp,img_name))\n",
    "#     o_img_target = [img_path for img_path in o_img_list if img_name in img_path]\n",
    "#     o_img = cv2.imread(o_img_target[0])\n",
    "    if pre_target !=[]:\n",
    "        label_img = cv2.imread(all_crown)\n",
    "        pre_img = cv2.imread(pre_target[0])\n",
    "\n",
    "        ##IOU fumction\n",
    "        row_contents.append(img_name)\n",
    "        row_contents_all = show_iou(label_img,pre_img,row_contents)\n",
    "        append_list_as_row(csv_file_path, row_contents_all)"
   ]
  },
  {
   "cell_type": "code",
   "execution_count": null,
   "metadata": {},
   "outputs": [],
   "source": [
    "csv_file = pd.read_csv(csv_file_path)\n",
    "\n",
    "background_list = list(csv_file['background IOU'].dropna())\n",
    "background_list = [ele for ele in background_list if ele > 0]\n",
    "background = sum(background_list)/len(background_list)\n",
    "\n",
    "gums_list = list(csv_file['gums IOU'].dropna())\n",
    "gums_list = [ele for ele in gums_list if ele > 0]\n",
    "gums = sum(gums_list)/len(gums_list)\n",
    "\n",
    "cavity_list = list(csv_file['cavity IOU'].dropna())\n",
    "cavity_list = [ele for ele in cavity_list if ele > 0]\n",
    "cavity = sum(cavity_list)/len(cavity_list)\n",
    "\n",
    "bacmixgums_list = list(csv_file['bacmixgums IOU'].dropna())\n",
    "bacmixgums_list = [ele for ele in bacmixgums_list if ele > 0]\n",
    "bacmixgums = sum(bacmixgums_list)/len(bacmixgums_list)\n",
    "\n",
    "\n",
    "overlap_list = list(csv_file['overlap IOU'].dropna())\n",
    "overlap_list = [ele for ele in overlap_list if ele > 0]\n",
    "overlap = sum(overlap_list)/len(overlap_list)\n",
    "\n",
    "cej_list = list(csv_file['cej IOU'].dropna())\n",
    "cej_list = [ele for ele in cej_list if ele > 0]\n",
    "cej = sum(cej_list)/len(cej_list)\n",
    "\n",
    "depressed_list = list(csv_file['depressed IOU'].dropna())\n",
    "depressed_list = [ele for ele in depressed_list if ele > 0]\n",
    "depressed = sum(depressed_list)/len(depressed_list)\n",
    "\n",
    "artifical_crown_list = list(csv_file['artifical_crown IOU'].dropna())\n",
    "artifical_crown_list = [ele for ele in artifical_crown_list if ele > 0]\n",
    "artifical_crown = sum(artifical_crown_list)/len(artifical_crown_list)\n",
    "\n",
    "tooth_list = list(csv_file['tooth IOU'].dropna())\n",
    "tooth_list = [ele for ele in tooth_list if ele > 0]\n",
    "tooth = sum(tooth_list)/len(tooth_list)\n",
    "\n",
    "whiteside_list = list(csv_file['whiteside IOU'].dropna())\n",
    "whiteside_list = [ele for ele in whiteside_list if ele > 0]\n",
    "whiteside = sum(whiteside_list)/len(whiteside_list)\n",
    "\n",
    "row_contents = ['Mean', background, gums, cavity, bacmixgums, overlap, cej, depressed, artifical_crown, tooth,whiteside]\n",
    "append_list_as_row(csv_file_path, row_contents)"
   ]
  },
  {
   "cell_type": "code",
   "execution_count": null,
   "metadata": {},
   "outputs": [],
   "source": [
    "print('1 牙冠',cej*100,'%')\n",
    "print('2 人造牙冠與補牙',artifical_crown*100,'%')\n",
    "print('3 健康牙周骨頭',gums*100,'%')\n",
    "print('4 有骨質流失牙周骨頭',depressed*100,'%')\n",
    "print('5 象牙質',tooth*100,'%')\n",
    "print('6 牙隨腔',cavity*100,'%')\n",
    "print('7 重疊區',overlap*100,'%')\n",
    "print('8 背景模糊',bacmixgums*100,'%')\n",
    "print('9 背景',background*100,'%')\n",
    "print('10 白框',whiteside*100,'%')\n",
    "print('Sum',(cej+artifical_crown+gums+depressed+tooth+cavity+overlap+bacmixgums+background+whiteside)*100,'%')"
   ]
  }
 ],
 "metadata": {
  "kernelspec": {
   "display_name": "Python 3",
   "language": "python",
   "name": "python3"
  },
  "language_info": {
   "codemirror_mode": {
    "name": "ipython",
    "version": 3
   },
   "file_extension": ".py",
   "mimetype": "text/x-python",
   "name": "python",
   "nbconvert_exporter": "python",
   "pygments_lexer": "ipython3",
   "version": "3.6.7"
  }
 },
 "nbformat": 4,
 "nbformat_minor": 4
}
