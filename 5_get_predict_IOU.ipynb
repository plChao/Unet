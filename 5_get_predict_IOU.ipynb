{
 "cells": [
  {
   "cell_type": "code",
   "execution_count": null,
   "metadata": {},
   "outputs": [],
   "source": [
    "import os\n",
    "import csv\n",
    "import cv2\n",
    "import math\n",
    "import time\n",
    "import json\n",
    "import glob\n",
    "import shutil\n",
    "import seaborn as sn\n",
    "import seaborn as sns\n",
    "import pandas as pd\n",
    "import numpy as np\n",
    "import matplotlib.pyplot as plt\n",
    "\n",
    "from tqdm.notebook import tqdm as tqdm\n",
    "from tabulate import tabulate\n"
   ]
  },
  {
   "cell_type": "code",
   "execution_count": null,
   "metadata": {},
   "outputs": [],
   "source": [
    "# Input\n",
    "# TODO 預測的 mask 結果資料夾\n",
    "pred_all_crown_list = glob.glob('./result/test_pred_raw/*.PNG')\n",
    "pred_all_crown_list.sort()\n",
    "assert len(pred_all_crown_list) != 0, 'wrong pred path'\n",
    "# TODO 要比較的 label 資料夾\n",
    "label_folder = '../data/label_CEJline_mask_385_512/'\n",
    "# label_folder = '../data/7class_generate_tooth_mask/'\n",
    "assert len(glob.glob(label_folder + '/*.PNG')) != 0, 'wrong label path'"
   ]
  },
  {
   "cell_type": "code",
   "execution_count": null,
   "metadata": {},
   "outputs": [],
   "source": [
    "# Output\n",
    "# TODO 輸出 csv 設定，會覆蓋原始檔案\n",
    "output_csv_path = \"./IOU_csv/CEJ_385.csv\""
   ]
  },
  {
   "cell_type": "code",
   "execution_count": null,
   "metadata": {},
   "outputs": [],
   "source": [
    "def show_pixel_set(img_nparray):\n",
    "    a = img_nparray\n",
    "    unique, counts = np.unique(a, return_counts=True)\n",
    "    return dict(zip(unique, counts))\n",
    "def count_iou(label_img_gray, predict_img_gray, val):\n",
    "    label_target = np.where(label_img_gray==val, 1, 0)\n",
    "    predict_target = np.where(predict_img_gray==val, 1, 0)\n",
    "    intersection = np.logical_and(label_target, predict_target)\n",
    "    union = np.logical_or(label_target, predict_target)\n",
    "    iou_score = np.sum(intersection) / np.sum(union)\n",
    "#     print('IOU val:',iou_score)\n",
    "    return iou_score\n",
    "def count_pixel_acc(label_img_gray, predict_img_gray, val):\n",
    "    label_target = np.where(label_img_gray==val, 1, 0)\n",
    "    predict_target = np.where(predict_img_gray==val, 1, 0)\n",
    "    different = np.logical_xor(label_target, predict_target)\n",
    "    diff_score = np.sum(different) / np.sum(np.ones_like(label_img_gray))\n",
    "#     print('IOU val:',iou_score)\n",
    "    return 1 - diff_score"
   ]
  },
  {
   "cell_type": "code",
   "execution_count": null,
   "metadata": {},
   "outputs": [],
   "source": [
    "record_iou = pd.DataFrame()\n",
    "for pred_img_path in tqdm(pred_all_crown_list, total = len(pred_all_crown_list)):\n",
    "    img_name = os.path.basename(pred_img_path)\n",
    "    pre_img = cv2.imread(pred_img_path, 0)\n",
    "    label_img = cv2.imread(label_folder + '/' + img_name, 0)\n",
    "    if not os.path.exists(label_folder + '/' + img_name):\n",
    "        print('no label image ', label_folder + '/' + img_name)\n",
    "        continue\n",
    "\n",
    "    label_img = cv2.resize(label_img, pre_img.shape)\n",
    "    label_img = np.where(label_img > 128, 255, 0)\n",
    "    result_iou = count_iou(pre_img, label_img, 255)\n",
    "    result_PA = count_pixel_acc(pre_img, label_img, 255)\n",
    "    record_iou = record_iou.append({'image': img_name, 'iou': result_iou, 'PA': result_PA}\\\n",
    "        , ignore_index=True)\n",
    "record_iou.to_csv(output_csv_path)"
   ]
  },
  {
   "cell_type": "code",
   "execution_count": null,
   "metadata": {},
   "outputs": [],
   "source": [
    "def show_dis(numbers):\n",
    "    print(numbers.describe())\n",
    "    plt.hist(numbers, bins=100)\n",
    "    plt.show()\n",
    "show_dis(record_iou['PA'])\n",
    "show_dis(record_iou['iou'])"
   ]
  },
  {
   "cell_type": "code",
   "execution_count": null,
   "metadata": {},
   "outputs": [],
   "source": []
  }
 ],
 "metadata": {
  "kernelspec": {
   "display_name": "Python 3.6.13 ('segment-gpu')",
   "language": "python",
   "name": "python3"
  },
  "language_info": {
   "codemirror_mode": {
    "name": "ipython",
    "version": 3
   },
   "file_extension": ".py",
   "mimetype": "text/x-python",
   "name": "python",
   "nbconvert_exporter": "python",
   "pygments_lexer": "ipython3",
   "version": "3.6.13"
  },
  "vscode": {
   "interpreter": {
    "hash": "d5b1b23edd1e76873f5c581c9db03e5890e6b4fbab0d28dc3e030bb716ec4f19"
   }
  }
 },
 "nbformat": 4,
 "nbformat_minor": 4
}
