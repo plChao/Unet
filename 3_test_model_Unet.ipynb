{
 "cells": [
  {
   "cell_type": "markdown",
   "source": [
    "### Reqirements\n",
    "- keras >= 2.2.0 or tensorflow >= 1.13\n",
    "- segmenation-models==1.0.*\n",
    "- albumentations==0.3.0"
   ],
   "metadata": {}
  },
  {
   "cell_type": "code",
   "execution_count": 1,
   "source": [
    "# # Install required libs\r\n",
    "\r\n",
    "# ### please update Albumentations to version>=0.3.0 for `Lambda` transform support\r\n",
    "# !pip install -U albumentations>=0.3.0 --user \r\n",
    "# !pip install -U --pre segmentation-models --user"
   ],
   "outputs": [],
   "metadata": {}
  },
  {
   "cell_type": "markdown",
   "source": [
    "# Loading dataset"
   ],
   "metadata": {}
  },
  {
   "cell_type": "markdown",
   "source": [
    "For this example we will use **CamVid** dataset. It is a set of:\n",
    " - **train** images + segmentation masks\n",
    " - **validation** images + segmentation masks\n",
    " - **test** images + segmentation masks\n",
    " \n",
    "All images have 320 pixels height and 480 pixels width.\n",
    "For more inforamtion about dataset visit http://mi.eng.cam.ac.uk/research/projects/VideoRec/CamVid/."
   ],
   "metadata": {}
  },
  {
   "cell_type": "code",
   "execution_count": 2,
   "source": [
    "import os\r\n",
    "os.environ['CUDA_VISIBLE_DEVICES'] = '0'\r\n",
    "\r\n",
    "import cv2\r\n",
    "import keras\r\n",
    "import shutil\r\n",
    "import numpy as np\r\n",
    "import matplotlib.pyplot as plt\r\n",
    "\r\n",
    "from tqdm.notebook import tqdm as tqdm"
   ],
   "outputs": [
    {
     "output_type": "stream",
     "name": "stderr",
     "text": [
      "Using TensorFlow backend.\n"
     ]
    }
   ],
   "metadata": {}
  },
  {
   "cell_type": "code",
   "execution_count": 3,
   "source": [
    "training = False"
   ],
   "outputs": [],
   "metadata": {}
  },
  {
   "cell_type": "code",
   "execution_count": 4,
   "source": [
    "data_folder_name = '0727_test_data/train_0727'\r\n",
    "DATA_DIR = './{}'.format(data_folder_name)\r\n",
    "\r\n",
    "set_size = 1024\r\n",
    "set_padding = 1280"
   ],
   "outputs": [],
   "metadata": {}
  },
  {
   "cell_type": "code",
   "execution_count": 5,
   "source": [
    "x_train_dir = os.path.join(DATA_DIR, 'train/image')\r\n",
    "y_train_dir = os.path.join(DATA_DIR, 'train/label')\r\n",
    "\r\n",
    "\r\n",
    "# x_train_dir = os.path.join(DATA_DIR, 'training/train')\r\n",
    "# y_train_dir = os.path.join(DATA_DIR, 'training/trainannot')\r\n",
    "\r\n",
    "# x_valid_dir = os.path.join(DATA_DIR, 'val')\r\n",
    "# y_valid_dir = os.path.join(DATA_DIR, 'valannot')\r\n",
    "\r\n",
    "x_test_dir = os.path.join(DATA_DIR, 'test/image')\r\n",
    "y_test_dir = os.path.join(DATA_DIR, 'test/label')"
   ],
   "outputs": [],
   "metadata": {}
  },
  {
   "cell_type": "code",
   "execution_count": 6,
   "source": [
    "def remove_check_point(path):\r\n",
    "    for file_name in os.listdir(path):\r\n",
    "        #print(file_name)\r\n",
    "        if 'checkpoints' in file_name:\r\n",
    "            shutil.rmtree(os.path.join(path, file_name))\r\n",
    "remove_check_point(x_train_dir)\r\n",
    "remove_check_point(y_train_dir)"
   ],
   "outputs": [],
   "metadata": {}
  },
  {
   "cell_type": "markdown",
   "source": [
    "# Dataloader and utility functions "
   ],
   "metadata": {}
  },
  {
   "cell_type": "code",
   "execution_count": 7,
   "source": [
    "# helper function for data visualization\r\n",
    "def visualize(**images):\r\n",
    "    \"\"\"PLot images in one row.\"\"\"\r\n",
    "    n = len(images)\r\n",
    "    plt.figure(figsize=(16, 5))\r\n",
    "    for i, (name, image) in enumerate(images.items()):\r\n",
    "        plt.subplot(1, n, i + 1)\r\n",
    "        plt.xticks([])\r\n",
    "        plt.yticks([])\r\n",
    "        plt.title(' '.join(name.split('_')).title())\r\n",
    "        plt.imshow(image)\r\n",
    "    plt.show()\r\n",
    "    \r\n",
    "# helper function for data visualization    \r\n",
    "def denormalize(x):\r\n",
    "    \"\"\"Scale image to range 0..1 for correct plot\"\"\"\r\n",
    "    x_max = np.percentile(x, 98)\r\n",
    "    x_min = np.percentile(x, 2)    \r\n",
    "    x = (x - x_min) / (x_max - x_min)\r\n",
    "    x = x.clip(0, 1)\r\n",
    "    return x\r\n",
    "    \r\n",
    "\r\n",
    "# classes for data loading and preprocessing\r\n",
    "class Dataset:\r\n",
    "    \"\"\"CamVid Dataset. Read images, apply augmentation and preprocessing transformations.\r\n",
    "    \r\n",
    "    Args:\r\n",
    "        images_dir (str): path to images folder\r\n",
    "        masks_dir (str): path to segmentation masks folder\r\n",
    "        class_values (list): values of classes to extract from segmentation mask\r\n",
    "        augmentation (albumentations.Compose): data transfromation pipeline \r\n",
    "            (e.g. flip, scale, etc.)\r\n",
    "        preprocessing (albumentations.Compose): data preprocessing \r\n",
    "            (e.g. noralization, shape manipulation, etc.)\r\n",
    "    \r\n",
    "    \"\"\"\r\n",
    "    \r\n",
    "    CLASSES = ['img_whiteside','background','bacmixgums', 'artifical_crown','tooth','overlap','cavity','cej','gums','img_depressed']\r\n",
    "    \r\n",
    "    def __init__(\r\n",
    "            self, \r\n",
    "            images_dir, \r\n",
    "            masks_dir, \r\n",
    "            classes=None, \r\n",
    "            augmentation=None, \r\n",
    "            preprocessing=None,\r\n",
    "    ):\r\n",
    "        self.ids = os.listdir(masks_dir)\r\n",
    "        # for masks dir are smaller than imges_dir\r\n",
    "        self.images_fps = [os.path.join(images_dir, image_id) for image_id in self.ids]\r\n",
    "        self.masks_fps = [os.path.join(masks_dir, image_id) for image_id in self.ids]\r\n",
    "        \r\n",
    "        # convert str names to class values on masks\r\n",
    "        self.class_values = [self.CLASSES.index(cls.lower()) for cls in classes]\r\n",
    "        \r\n",
    "        self.augmentation = augmentation\r\n",
    "        self.preprocessing = preprocessing\r\n",
    "    \r\n",
    "    def __getitem__(self, i):\r\n",
    "        \r\n",
    "        #oupput image name\r\n",
    "        name = self.images_fps[i].split('/')[-1]\r\n",
    "\r\n",
    "        # read data\r\n",
    "        image = cv2.imread(self.images_fps[i])\r\n",
    "        image = cv2.cvtColor(image, cv2.COLOR_BGR2RGB)\r\n",
    "        mask = cv2.imread(self.masks_fps[i], 0)\r\n",
    "        \r\n",
    "        # extract certain classes from mask (e.g. cars)\r\n",
    "        masks = [(mask == v) for v in self.class_values]\r\n",
    "        mask = np.stack(masks, axis=-1).astype('float')\r\n",
    "        \r\n",
    "        # add background if mask is not binary\r\n",
    "        if mask.shape[-1] != 1:\r\n",
    "            background = 1 - mask.sum(axis=-1, keepdims=True)\r\n",
    "            mask = np.concatenate((mask, background), axis=-1)\r\n",
    "        \r\n",
    "        # apply augmentations\r\n",
    "        if self.augmentation:\r\n",
    "            sample = self.augmentation(image=image, mask=mask)\r\n",
    "            image, mask = sample['image'], sample['mask']\r\n",
    "        \r\n",
    "        # apply preprocessing\r\n",
    "        if self.preprocessing:\r\n",
    "            sample = self.preprocessing(image=image, mask=mask)\r\n",
    "            image, mask = sample['image'], sample['mask']\r\n",
    "            \r\n",
    "        return image, mask, name\r\n",
    "        \r\n",
    "    def __len__(self):\r\n",
    "        return len(self.ids)\r\n",
    "    \r\n",
    "    \r\n",
    "class Dataloder(keras.utils.Sequence):\r\n",
    "    \"\"\"Load data from dataset and form batches\r\n",
    "    \r\n",
    "    Args:\r\n",
    "        dataset: instance of Dataset class for image loading and preprocessing.\r\n",
    "        batch_size: Integet number of images in batch.\r\n",
    "        shuffle: Boolean, if `True` shuffle image indexes each epoch.\r\n",
    "    \"\"\"\r\n",
    "    \r\n",
    "    def __init__(self, dataset, batch_size=1, shuffle=False):\r\n",
    "        self.dataset = dataset\r\n",
    "        self.batch_size = batch_size\r\n",
    "        self.shuffle = shuffle\r\n",
    "        self.indexes = np.arange(len(dataset))\r\n",
    "\r\n",
    "        self.on_epoch_end()\r\n",
    "\r\n",
    "    def __getitem__(self, i):\r\n",
    "        \r\n",
    "        # collect batch data\r\n",
    "        start = i * self.batch_size\r\n",
    "        stop = (i + 1) * self.batch_size\r\n",
    "        data = []\r\n",
    "        for j in range(start, stop):\r\n",
    "            data.append(self.dataset[j])\r\n",
    "        \r\n",
    "        # transpose list of lists\r\n",
    "        batch = [np.stack(samples, axis=0) for samples in zip(*data)]\r\n",
    "        \r\n",
    "        return batch\r\n",
    "    \r\n",
    "    def __len__(self):\r\n",
    "        \"\"\"Denotes the number of batches per epoch\"\"\"\r\n",
    "        return len(self.indexes) // self.batch_size\r\n",
    "    \r\n",
    "    def on_epoch_end(self):\r\n",
    "        \"\"\"Callback function to shuffle indexes each epoch\"\"\"\r\n",
    "        if self.shuffle:\r\n",
    "            self.indexes = np.random.permutation(self.indexes)   "
   ],
   "outputs": [],
   "metadata": {}
  },
  {
   "cell_type": "code",
   "execution_count": 8,
   "source": [
    "# Lets look at data we have\r\n",
    "dataset = Dataset(x_train_dir, y_train_dir, classes= ['img_whiteside','background','bacmixgums', 'artifical_crown','tooth','overlap','cavity','cej','gums','img_depressed'])\r\n",
    "print(dataset.class_values)\r\n",
    "image, mask,name = dataset[6] # get some sample\r\n",
    "\r\n",
    "visualize(\r\n",
    "    image=image, \r\n",
    "    whiteside_mask=mask[..., 1].squeeze(),\r\n",
    "    background_mask=mask[..., 2].squeeze(),\r\n",
    "    bacmixgums_mask=mask[..., 3].squeeze(),\r\n",
    "    artifical_crown_mask =mask[..., 4].squeeze(),\r\n",
    "    tooth_mask =mask[..., 5].squeeze(),\r\n",
    "    overlap_mask=mask[..., 6].squeeze(),\r\n",
    "    cavity_mask =mask[..., 7].squeeze(),\r\n",
    "    cej_mask=mask[..., 8].squeeze(),\r\n",
    "    gums_mask =mask[..., 9].squeeze(),\r\n",
    "    img_depressed_mask=mask[..., 10].squeeze(),\r\n",
    ")\r\n",
    "print(image.shape)"
   ],
   "outputs": [
    {
     "output_type": "stream",
     "name": "stdout",
     "text": [
      "[0, 1, 2, 3, 4, 5, 6, 7, 8, 9]\n"
     ]
    },
    {
     "output_type": "display_data",
     "data": {
      "text/plain": [
       "<Figure size 1152x360 with 11 Axes>"
      ],
      "image/png": "[encoded data removed]"
     },
     "metadata": {}
    },
    {
     "output_type": "stream",
     "name": "stdout",
     "text": [
      "(1024, 1024, 3)\n"
     ]
    }
   ],
   "metadata": {}
  },
  {
   "cell_type": "markdown",
   "source": [
    "### Augmentations"
   ],
   "metadata": {}
  },
  {
   "cell_type": "markdown",
   "source": [
    "Data augmentation is a powerful technique to increase the amount of your data and prevent model overfitting.  \n",
    "If you not familiar with such trick read some of these articles:\n",
    " - [The Effectiveness of Data Augmentation in Image Classification using Deep\n",
    "Learning](http://cs231n.stanford.edu/reports/2017/pdfs/300.pdf)\n",
    " - [Data Augmentation | How to use Deep Learning when you have Limited Data](https://medium.com/nanonets/how-to-use-deep-learning-when-you-have-limited-data-part-2-data-augmentation-c26971dc8ced)\n",
    " - [Data Augmentation Experimentation](https://towardsdatascience.com/data-augmentation-experimentation-3e274504f04b)\n",
    "\n",
    "Since our dataset is very small we will apply a large number of different augmentations:\n",
    " - horizontal flip\n",
    " - affine transforms\n",
    " - perspective transforms\n",
    " - brightness/contrast/colors manipulations\n",
    " - image bluring and sharpening\n",
    " - gaussian noise\n",
    " - random crops\n",
    "\n",
    "All this transforms can be easily applied with [**Albumentations**](https://github.com/albu/albumentations/) - fast augmentation library.\n",
    "For detailed explanation of image transformations you can look at [kaggle salt segmentation exmaple](https://github.com/albu/albumentations/blob/master/notebooks/example_kaggle_salt.ipynb) provided by [**Albumentations**](https://github.com/albu/albumentations/) authors.\n"
   ],
   "metadata": {}
  },
  {
   "cell_type": "code",
   "execution_count": 9,
   "source": [
    "import albumentations as A"
   ],
   "outputs": [],
   "metadata": {}
  },
  {
   "cell_type": "code",
   "execution_count": 10,
   "source": [
    "def round_clip_0_1(x, **kwargs):\r\n",
    "    return x.round().clip(0, 1)\r\n",
    "\r\n",
    "# define heavy augmentations\r\n",
    "def get_training_augmentation():\r\n",
    "    train_transform = [\r\n",
    "\r\n",
    "        A.HorizontalFlip(p=0.5),\r\n",
    "        A.VerticalFlip(p=0.5),\r\n",
    "        A.ShiftScaleRotate(scale_limit=0.3, rotate_limit=5, shift_limit=0.1, p=1, border_mode=0),\r\n",
    "\r\n",
    "        A.PadIfNeeded(min_height=set_padding, min_width=set_padding, always_apply=True, border_mode=0),\r\n",
    "        A.RandomCrop(height=set_size, width=set_size, always_apply=True),\r\n",
    "\r\n",
    "        A.IAAAdditiveGaussianNoise(p=0.2),\r\n",
    "        A.IAAPerspective(p=0.5),\r\n",
    "\r\n",
    "        A.OneOf(\r\n",
    "            [\r\n",
    "                A.CLAHE(p=1),\r\n",
    "                A.RandomBrightness(p=1),\r\n",
    "                A.RandomGamma(p=1),\r\n",
    "            ],\r\n",
    "            p=0.5,\r\n",
    "        ),\r\n",
    "\r\n",
    "        A.OneOf(\r\n",
    "            [\r\n",
    "                A.IAASharpen(p=1),\r\n",
    "                A.Blur(blur_limit=3, p=1),\r\n",
    "                A.MotionBlur(blur_limit=3, p=1),\r\n",
    "            ],\r\n",
    "            p=0.5,\r\n",
    "        ),\r\n",
    "\r\n",
    "        A.OneOf(\r\n",
    "            [\r\n",
    "                A.RandomContrast(p=1),\r\n",
    "                A.HueSaturationValue(p=1),\r\n",
    "            ],\r\n",
    "            p=0.5,\r\n",
    "        ),\r\n",
    "        A.Lambda(mask=round_clip_0_1)\r\n",
    "    ]\r\n",
    "    return A.Compose(train_transform)\r\n",
    "\r\n",
    "\r\n",
    "def get_validation_augmentation():\r\n",
    "    \"\"\"Add paddings to make image shape divisible by 32\"\"\"\r\n",
    "    test_transform = [\r\n",
    "        A.PadIfNeeded(set_padding, set_padding),\r\n",
    "        A.RandomCrop(height=set_size, width=set_size, always_apply=True)\r\n",
    "    ]\r\n",
    "    return A.Compose(test_transform)\r\n",
    "\r\n",
    "def get_training_enhance_augmentation():\r\n",
    "    \"\"\"Add paddings to make image shape divisible by 32\"\"\"\r\n",
    "    fine_tune_transform = [\r\n",
    "        A.HorizontalFlip(p=0.5),\r\n",
    "        A.ShiftScaleRotate(scale_limit=0.1, rotate_limit=90, shift_limit=0.1, p=1, border_mode=0),\r\n",
    "\r\n",
    "        A.PadIfNeeded(min_height=set_padding, min_width=set_padding, always_apply=True, border_mode=0),\r\n",
    "        A.RandomCrop(height=set_size, width=set_size, always_apply=True),\r\n",
    "        A.OneOf(\r\n",
    "            [\r\n",
    "                A.CLAHE(p=1),\r\n",
    "                A.RandomBrightness(p=1),\r\n",
    "                A.RandomGamma(p=1),\r\n",
    "            ],\r\n",
    "            p=0.9,\r\n",
    "        )\r\n",
    "    ]\r\n",
    "    return A.Compose(fine_tune_transform)\r\n",
    "\r\n",
    "def get_fine_tune_augmentation():\r\n",
    "    \"\"\"Add paddings to make image shape divisible by 32\"\"\"\r\n",
    "    fine_tune_transform = [\r\n",
    "        A.HorizontalFlip(p=0.5),\r\n",
    "        A.ShiftScaleRotate(scale_limit=0.1, rotate_limit=15, shift_limit=0.1, p=1, border_mode=0),\r\n",
    "\r\n",
    "        A.PadIfNeeded(min_height=set_padding, min_width=set_padding, always_apply=True, border_mode=0),\r\n",
    "        A.RandomCrop(height=set_size, width=set_size, always_apply=True),\r\n",
    "        A.OneOf(\r\n",
    "            [\r\n",
    "                A.CLAHE(p=1),\r\n",
    "                A.RandomBrightness(p=1),\r\n",
    "                A.RandomGamma(p=1),\r\n",
    "            ],\r\n",
    "            p=0.5,\r\n",
    "        )\r\n",
    "    ]\r\n",
    "    return A.Compose(fine_tune_transform)\r\n",
    "\r\n",
    "def get_preprocessing(preprocessing_fn):\r\n",
    "    \"\"\"Construct preprocessing transform\r\n",
    "    \r\n",
    "    Args:\r\n",
    "        preprocessing_fn (callbale): data normalization function \r\n",
    "            (can be specific for each pretrained neural network)\r\n",
    "    Return:\r\n",
    "        transform: albumentations.Compose\r\n",
    "    \r\n",
    "    \"\"\"\r\n",
    "    \r\n",
    "    _transform = [\r\n",
    "        A.Lambda(image=preprocessing_fn),\r\n",
    "    ]\r\n",
    "    return A.Compose(_transform)"
   ],
   "outputs": [],
   "metadata": {}
  },
  {
   "cell_type": "code",
   "execution_count": 11,
   "source": [
    "# Lets look at augmented data we have\n",
    "dataset = Dataset(x_train_dir, y_train_dir, classes= ['img_whiteside','background','bacmixgums', 'artifical_crown','tooth','overlap','cavity','cej','gums','img_depressed'], augmentation=get_training_augmentation())\n",
    "print(dataset.class_values)\n",
    "image, mask,name = dataset[1] # get some sample\n",
    "\n",
    "visualize(\n",
    "    image=image, \n",
    "    whiteside_mask=mask[..., 1].squeeze(),\n",
    "    background_mask=mask[..., 2].squeeze(),\n",
    "    bacmixgums_mask=mask[..., 3].squeeze(),\n",
    "    artifical_crown_mask =mask[..., 4].squeeze(),\n",
    "    tooth_mask =mask[..., 5].squeeze(),\n",
    "    overlap_mask=mask[..., 6].squeeze(),\n",
    "    cavity_mask =mask[..., 7].squeeze(),\n",
    "    cej_mask=mask[..., 8].squeeze(),\n",
    "    gums_mask =mask[..., 9].squeeze(),\n",
    "    img_depressed_mask=mask[..., 10].squeeze(),\n",
    ")\n",
    "print(image.shape)"
   ],
   "outputs": [
    {
     "output_type": "stream",
     "name": "stdout",
     "text": [
      "[0, 1, 2, 3, 4, 5, 6, 7, 8, 9]\n"
     ]
    },
    {
     "output_type": "display_data",
     "data": {
      "text/plain": [
       "<Figure size 1152x360 with 11 Axes>"
      ],
      "image/png": "[encoded data removed]"
     },
     "metadata": {}
    },
    {
     "output_type": "stream",
     "name": "stdout",
     "text": [
      "(1024, 1024, 3)\n"
     ]
    }
   ],
   "metadata": {}
  },
  {
   "cell_type": "code",
   "execution_count": 12,
   "source": [
    "# Lets look at augmented data we have\r\n",
    "dataset = Dataset(x_train_dir, y_train_dir, classes=['img_whiteside','background','bacmixgums', 'artifical_crown','tooth','overlap','cavity','cej','gums','img_depressed'], augmentation=get_fine_tune_augmentation())\r\n",
    "\r\n",
    "image, mask,name = dataset[30] # get some sample\r\n",
    "visualize(\r\n",
    "    image=image, \r\n",
    "    whiteside_mask=mask[..., 1].squeeze(),\r\n",
    "    background_mask=mask[..., 2].squeeze(),\r\n",
    "    bacmixgums_mask=mask[..., 3].squeeze(),\r\n",
    "    artifical_crown_mask =mask[..., 4].squeeze(),\r\n",
    "    tooth_mask =mask[..., 5].squeeze(),\r\n",
    "    overlap_mask=mask[..., 6].squeeze(),\r\n",
    "    cavity_mask =mask[..., 7].squeeze(),\r\n",
    "    cej_mask=mask[..., 8].squeeze(),\r\n",
    "    gums_mask =mask[..., 9].squeeze(),\r\n",
    "    img_depressed_mask=mask[..., 10].squeeze(),\r\n",
    ")\r\n",
    "print(image.shape)"
   ],
   "outputs": [
    {
     "output_type": "display_data",
     "data": {
      "text/plain": [
       "<Figure size 1152x360 with 11 Axes>"
      ],
      "image/png": "[encoded data removed]"
     },
     "metadata": {}
    },
    {
     "output_type": "stream",
     "name": "stdout",
     "text": [
      "(1024, 1024, 3)\n"
     ]
    }
   ],
   "metadata": {}
  },
  {
   "cell_type": "markdown",
   "source": [
    "# Segmentation model training"
   ],
   "metadata": {}
  },
  {
   "cell_type": "code",
   "execution_count": 13,
   "source": [
    "import segmentation_models as sm\r\n",
    "\r\n",
    "# segmentation_models could also use `tf.keras` if you do not have Keras installed\r\n",
    "# or you could switch to other framework using `sm.set_framework('tf.keras')`"
   ],
   "outputs": [
    {
     "output_type": "stream",
     "name": "stdout",
     "text": [
      "Segmentation Models: using `keras` framework.\n"
     ]
    }
   ],
   "metadata": {}
  },
  {
   "cell_type": "code",
   "execution_count": 14,
   "source": [
    "BACKBONE = 'efficientnetb3'\r\n",
    "BATCH_SIZE = 2\r\n",
    "CLASSES = ['img_whiteside','background','bacmixgums', 'artifical_crown','tooth','overlap','cavity','cej','gums','img_depressed']\r\n",
    "#['background','bacmixgums', 'artifical_crown','tooth','gums','overlap','cavity','cej']\r\n",
    "LR = 0.0001\r\n",
    "EPOCHS = 100\r\n",
    "\r\n",
    "preprocess_input = sm.get_preprocessing(BACKBONE)"
   ],
   "outputs": [],
   "metadata": {}
  },
  {
   "cell_type": "code",
   "execution_count": 15,
   "source": [
    "# define network parameters\r\n",
    "n_classes = 1 if len(CLASSES) == 1 else (len(CLASSES) + 1)  # case for binary and multiclass segmentation\r\n",
    "activation = 'sigmoid' if n_classes == 1 else 'softmax'\r\n",
    "#create model\r\n",
    "model = sm.Unet(BACKBONE, classes=n_classes, activation=activation)"
   ],
   "outputs": [],
   "metadata": {}
  },
  {
   "cell_type": "code",
   "execution_count": 16,
   "source": [
    "# define optomizer\r\n",
    "optim = keras.optimizers.Adam(LR)\r\n",
    "\r\n",
    "# Segmentation models losses can be combined together by '+' and scaled by integer or float factor\r\n",
    "# set class weights for dice_loss (car: 1.; pedestrian: 2.; background: 0.5;)\r\n",
    "dice_loss = sm.losses.DiceLoss(class_weights=np.array([0.5, 1, 1, 1.5, 1.5, 2, 2,3,3,3,5])) \r\n",
    "focal_loss = sm.losses.BinaryFocalLoss() if n_classes == 1 else sm.losses.CategoricalFocalLoss()\r\n",
    "total_loss = dice_loss + (1 * focal_loss)\r\n",
    "\r\n",
    "# actulally total_loss can be imported directly from library, above example just show you how to manipulate with losses\r\n",
    "# total_loss = sm.losses.binary_focal_dice_loss # or sm.losses.categorical_focal_dice_loss \r\n",
    "\r\n",
    "metrics = [sm.metrics.IOUScore(threshold=0.5), sm.metrics.FScore(threshold=0.5)]\r\n",
    "\r\n",
    "# compile keras model with defined optimozer, loss and metrics\r\n",
    "model.compile(optim, total_loss, metrics)"
   ],
   "outputs": [],
   "metadata": {}
  },
  {
   "cell_type": "code",
   "execution_count": 17,
   "source": [
    "# Dataset for train images\r\n",
    "\r\n",
    "\r\n",
    "train_dataset = Dataset(\r\n",
    "    x_train_dir, \r\n",
    "    y_train_dir, \r\n",
    "    classes=CLASSES, \r\n",
    "    augmentation=get_training_augmentation(),\r\n",
    "    preprocessing=get_preprocessing(preprocess_input),\r\n",
    ")\r\n",
    "\r\n",
    "# # Dataset for validation images\r\n",
    "# valid_dataset = Dataset(\r\n",
    "#     x_valid_dir, \r\n",
    "#     y_valid_dir, \r\n",
    "#     classes=CLASSES, \r\n",
    "#     augmentation=get_validation_augmentation(),\r\n",
    "#     preprocessing=get_preprocessing(preprocess_input),\r\n",
    "# )\r\n",
    "\r\n",
    "train_dataloader = Dataloder(train_dataset, batch_size=BATCH_SIZE, shuffle=True)\r\n",
    "#valid_dataloader = Dataloder(valid_dataset, batch_size=1, shuffle=False)\r\n",
    "\r\n",
    "# check shapes for errors\r\n",
    "assert train_dataloader[0][0].shape == (BATCH_SIZE, 1024, 1024, 3)\r\n",
    "assert train_dataloader[0][1].shape == (BATCH_SIZE, 1024, 1024, n_classes)\r\n",
    "\r\n",
    "# define callbacks for learning rate scheduling and best checkpoints saving\r\n",
    "callbacks = [\r\n",
    "    keras.callbacks.ModelCheckpoint('../../weight/0301_ten_classes.h5', save_weights_only=True, save_best_only=True, mode='min'),\r\n",
    "    keras.callbacks.ReduceLROnPlateau(),\r\n",
    "]"
   ],
   "outputs": [],
   "metadata": {}
  },
  {
   "cell_type": "code",
   "execution_count": null,
   "source": [],
   "outputs": [],
   "metadata": {}
  },
  {
   "cell_type": "code",
   "execution_count": 18,
   "source": [
    "# if training:\r\n",
    "#     # train model\r\n",
    "#     history = model.fit_generator(\r\n",
    "#         train_dataloader, \r\n",
    "#         steps_per_epoch=len(train_dataloader), \r\n",
    "#         epochs=EPOCHS, \r\n",
    "#         callbacks=callbacks, \r\n",
    "#         #validation_data=valid_dataloader, \r\n",
    "#         #validation_steps=len(valid_dataloader),\r\n",
    "#     )\r\n",
    "\r\n",
    "#     model.save('/root/notebooks/tooth_project/tooth_xray_segmention_for_test/unet_multiclass/weight/full_img.h5')\r\n",
    "    "
   ],
   "outputs": [],
   "metadata": {}
  },
  {
   "cell_type": "code",
   "execution_count": 19,
   "source": [
    "# if training:\r\n",
    "#     # Plot training & validation iou_score values\r\n",
    "#     plt.figure(figsize=(30, 5))\r\n",
    "#     plt.subplot(121)\r\n",
    "#     plt.plot(history.history['iou_score'])\r\n",
    "#     #plt.plot(history.history['val_iou_score'])\r\n",
    "#     plt.title('Model iou_score')\r\n",
    "#     plt.ylabel('iou_score')\r\n",
    "#     plt.xlabel('Epoch')\r\n",
    "#     plt.legend(['Train', 'Test'], loc='upper left')\r\n",
    "\r\n",
    "#     # Plot training & validation loss values\r\n",
    "#     plt.subplot(122)\r\n",
    "#     plt.plot(history.history['loss'])\r\n",
    "#     #plt.plot(history.history['val_loss'])\r\n",
    "#     plt.title('Model loss')\r\n",
    "#     plt.ylabel('Loss')\r\n",
    "#     plt.xlabel('Epoch')\r\n",
    "#     plt.legend(['Train', 'Test'], loc='upper left')\r\n",
    "#     plt.show()"
   ],
   "outputs": [],
   "metadata": {}
  },
  {
   "cell_type": "markdown",
   "source": [
    "# Model Evaluation"
   ],
   "metadata": {}
  },
  {
   "cell_type": "code",
   "execution_count": 20,
   "source": [
    "# test_dataset = Dataset(\r\n",
    "#     x_test_dir, \r\n",
    "#     y_test_dir, \r\n",
    "#     classes=CLASSES, \r\n",
    "#     #augmentation=get_validation_augmentation(),\r\n",
    "#     #preprocessing=get_preprocessing(preprocess_input),\r\n",
    "# )\r\n",
    "\r\n",
    "# test_dataloader = Dataloder(test_dataset, batch_size=1, shuffle=False)"
   ],
   "outputs": [],
   "metadata": {}
  },
  {
   "cell_type": "code",
   "execution_count": 21,
   "source": [
    "# load best weights\r\n",
    "#model.load_weights('/root/notebooks/tooth_project/tooth_xray_segmention_for_test/unet_multiclass/weight/full_img_520.h5')\r\n",
    "# load best weights\r\n",
    "model.load_weights('./weight/0727_train_ten_classes_20.h5') "
   ],
   "outputs": [],
   "metadata": {}
  },
  {
   "cell_type": "markdown",
   "source": [
    "# Visualization of results on test dataset"
   ],
   "metadata": {}
  },
  {
   "cell_type": "code",
   "execution_count": 29,
   "source": [
    "test_dir = './data/raw_data'\r\n",
    "remove_check_point(test_dir)"
   ],
   "outputs": [],
   "metadata": {}
  },
  {
   "cell_type": "code",
   "execution_count": 30,
   "source": [
    "test_dataset = Dataset(\r\n",
    "    test_dir, \r\n",
    "    y_test_dir, \r\n",
    "    classes=CLASSES, \r\n",
    "    augmentation=None,\r\n",
    "    preprocessing=get_preprocessing(preprocess_input),\r\n",
    ")\r\n",
    "\r\n",
    "test_dataloader = Dataloder(test_dataset, batch_size=1, shuffle=False)\r\n"
   ],
   "outputs": [],
   "metadata": {}
  },
  {
   "cell_type": "code",
   "execution_count": 31,
   "source": [
    "image, mask,name = test_dataset[30]\r\n",
    "print(image.shape)"
   ],
   "outputs": [
    {
     "output_type": "stream",
     "name": "stdout",
     "text": [
      "(1024, 1024, 3)\n"
     ]
    }
   ],
   "metadata": {}
  },
  {
   "cell_type": "code",
   "execution_count": 32,
   "source": [
    "def predict_to_mask(pr_mask):\r\n",
    "    blank_image = np.zeros((pr_mask.shape[0],pr_mask.shape[1],3), np.uint8)\r\n",
    "    img_whiteside = np.array([255,255,255])\r\n",
    "    background = np.array([0,0,0])\r\n",
    "    bacmixgums = np.array([16,78,128])\r\n",
    "    tooth = np.array([0,255,255])\r\n",
    "    artifical_crown = np.array([255,255,0])\r\n",
    "    cavity = np.array([0,0,255])\r\n",
    "    overlap = np.array([255,0,255])\r\n",
    "    gums = np.array([255,0,0])\r\n",
    "    cej = np.array([0,255,0])\r\n",
    "    img_depressed = np.array([3,128,253])\r\n",
    "    gray = np.array([125,125,125])\r\n",
    "    pixel_list = [gray,img_whiteside,background,bacmixgums, artifical_crown,tooth,overlap,cavity,cej,gums,img_depressed]\r\n",
    "    for i in range(pr_mask.shape[0]):\r\n",
    "        for j in range(pr_mask.shape[1]):\r\n",
    "            blank_image[i][j] = pixel_list[np.argmax(pr_mask[i][j][1:])+1]\r\n",
    "    return blank_image.astype('uint8')\r\n",
    "\r\n",
    "def show_pixel_set(img_nparray):\r\n",
    "    a = img_nparray\r\n",
    "    unique, counts = np.unique(a, return_counts=True)\r\n",
    "    return dict(zip(unique, counts))"
   ],
   "outputs": [],
   "metadata": {}
  },
  {
   "cell_type": "code",
   "execution_count": 33,
   "source": [
    "# from sklearn.preprocessing import OneHotEncoder\n",
    "\n",
    "# n = 100\n",
    "# ids = np.random.choice(np.arange(len(test_dataset)-1), size=n)\n",
    "# for i in range(n):\n",
    "#     print(i)\n",
    "#     image, gt_mask = test_dataset[i]\n",
    "#     image = np.expand_dims(image, axis=0)\n",
    "#     pr_mask = model.predict(image)\n",
    "#     image=denormalize(image.squeeze())\n",
    "#     pr_mask = np.squeeze(pr_mask)\n",
    "#     print(pr_mask.shape)\n",
    "#     target = predict_to_mask(pr_mask)\n",
    "#     #target = cv2.cvtColor(target,cv2.COLOR_RGB2BGR)\n",
    "#     cv2.imwrite('/root/notebooks/tooth_project/tooth_xray_segmention_for_test/unet_multiclass/data/data_full_img_label/result/{}_prdict.png'.format(i),target)\n",
    "\n",
    "#     plt.figure(figsize = (20,20))\n",
    "#     plt.subplot(1,3,1)\n",
    "#     #image = cv2.cvtColor(image, cv2.COLOR_BGR2GRAY)\n",
    "#     #image = cv2.cvtColor(image, cv2.COLOR_GRAY2BGR)\n",
    "#     plt.imshow(image)\n",
    "#     plt.subplot(1,3,2)\n",
    "#     print(image.shape)\n",
    "#     print(target.shape)\n",
    "#     plt.imshow(target)\n",
    "#     plt.subplot(1,3,3)\n",
    "#     #dst = cv2.addWeighted(image,0.9,target+1,0.3,0.5)\n",
    "#     plt.imshow(cv2.addWeighted((image*255).astype('uint8'),0.9,target.astype('uint8'),0.1,1))\n",
    "#     plt.show()\n",
    "#     '''\n",
    "#     visualize(\n",
    "#         image=denormalize(image.squeeze()),\n",
    "#         #gt_mask=gt_mask.squeeze(),\n",
    "#         pr_mask=pr_mask.squeeze(),\n",
    "#     )\n",
    "#     '''\n",
    "    \n",
    "# #['background', 'bacmixgums', 'artifical_crown','tooth','gums','cavity','cej']"
   ],
   "outputs": [],
   "metadata": {}
  },
  {
   "cell_type": "code",
   "execution_count": 34,
   "source": [
    "def ensemble_image(img, model_list, flip_ = True):\n",
    "    ensemble_final_result = np.zeros((img.shape[0], img.shape[1],11), dtype = 'float32')\n",
    "    for index, model in enumerate(model_list):\n",
    "        #print('img:',img.shape)\n",
    "        pr_img = model.predict(img)\n",
    "        #print('pr_img:',pr_img.shape)\n",
    "        #sqpr_img = np.squeeze(pr_img)\n",
    "        sqpr_img = pr_img\n",
    "        #print('sqpr_img:',sqpr_img.shape)\n",
    "        ensemble_img = sqpr_img.copy()\n",
    "        if flip_:\n",
    "            imgp = np.squeeze(img)\n",
    "            h_flip = cv2.flip(imgp, 1)\n",
    "            h_flip = np.expand_dims(h_flip, axis=(0))\n",
    "            pre_h_flip = model.predict(h_flip)\n",
    "            pre_h_flip = np.squeeze(pre_h_flip)\n",
    "            h_flip = cv2.flip(pre_h_flip, 1)\n",
    "            #print('h_flip:',h_flip.shape)\n",
    "            \n",
    "            v_flip = cv2.flip(imgp, 0)\n",
    "            v_flip = np.expand_dims(v_flip, axis=(0))\n",
    "            pre_v_flip = model.predict(v_flip)\n",
    "            pre_v_flip = np.squeeze(pre_v_flip)\n",
    "            v_flip = cv2.flip(pre_v_flip, 0)\n",
    "            #print('v_flip:',v_flip.shape)\n",
    "            \n",
    "            hv_flip = cv2.flip(imgp, -1)\n",
    "            hv_flip = np.expand_dims(hv_flip, axis=(0))\n",
    "            pre_hv_flip = model.predict(hv_flip)\n",
    "            pre_hv_flip = np.squeeze(pre_hv_flip)\n",
    "            hv_flip = cv2.flip(pre_hv_flip, -1)\n",
    "            #print('hv_flip:',hv_flip.shape)\n",
    "            ensemble_img = (sqpr_img+h_flip+v_flip+hv_flip)/4\n",
    "        ensemble_final_result = ensemble_final_result+ensemble_img\n",
    "    ensemble_final_result = ensemble_final_result/(index+1)\n",
    "    #return np.expand_dims(np.where(ensemble_final_result > 0.5, 1, 0), axis=(0,3))\n",
    "    return np.expand_dims(ensemble_final_result, axis=(0,3))"
   ],
   "outputs": [],
   "metadata": {}
  },
  {
   "cell_type": "code",
   "execution_count": 35,
   "source": [
    "all_classes_save_folder = './0727_test_data/train_0727/test/pre/0727_all_class'\n",
    "\n",
    "show = False\n",
    "\n",
    "ensemble=True\n",
    "\n",
    "print('Get',len(test_dataset), 'data for testing')\n",
    "for i in tqdm(range(len(test_dataset)),total=len(test_dataset)):\n",
    "    image, gt_mask, name = test_dataset[i]\n",
    "    image = np.expand_dims(image, axis=0)\n",
    "    if ensemble:\n",
    "        pr_mask = ensemble_image(image,[model], flip_=True)\n",
    "    else:\n",
    "        pr_mask = model.predict(image)\n",
    "    image=denormalize(image.squeeze())\n",
    "    pr_mask = np.squeeze(pr_mask)\n",
    "    result = predict_to_mask(pr_mask)\n",
    "#     print(result.shape)\n",
    "#     print(result[12:1036,12:1036].shape)\n",
    "    cv2.imwrite(os.path.join(all_classes_save_folder, name), result)\n",
    "    if show:\n",
    "        plt.figure(figsize = (20,20))\n",
    "        plt.subplot(1,3,1)\n",
    "        plt.imshow(image)\n",
    "        plt.subplot(1,3,2)\n",
    "        plt.imshow(pr_mask)\n",
    "        plt.subplot(1,3,3)\n",
    "        dst = cv2.addWeighted(image,0.9,pr_mask,0.3,0)\n",
    "        plt.imshow(dst)\n",
    "        plt.show()"
   ],
   "outputs": [
    {
     "output_type": "stream",
     "name": "stdout",
     "text": [
      "Get 95 data for testing\n"
     ]
    },
    {
     "output_type": "display_data",
     "data": {
      "text/plain": [
       "HBox(children=(IntProgress(value=0, max=95), HTML(value='')))"
      ],
      "application/vnd.jupyter.widget-view+json": {
       "model_id": "b6dd7b19f1274b559974fbdcf33ec5ef",
       "version_major": 2,
       "version_minor": 0
      }
     },
     "metadata": {}
    },
    {
     "output_type": "error",
     "ename": "KeyboardInterrupt",
     "evalue": "",
     "traceback": [
      "\u001b[0;31m---------------------------------------------------------------------------\u001b[0m",
      "\u001b[0;31mKeyboardInterrupt\u001b[0m                         Traceback (most recent call last)",
      "\u001b[0;32m<ipython-input-35-748281382d91>\u001b[0m in \u001b[0;36m<module>\u001b[0;34m\u001b[0m\n\u001b[1;32m     15\u001b[0m     \u001b[0mimage\u001b[0m\u001b[0;34m=\u001b[0m\u001b[0mdenormalize\u001b[0m\u001b[0;34m(\u001b[0m\u001b[0mimage\u001b[0m\u001b[0;34m.\u001b[0m\u001b[0msqueeze\u001b[0m\u001b[0;34m(\u001b[0m\u001b[0;34m)\u001b[0m\u001b[0;34m)\u001b[0m\u001b[0;34m\u001b[0m\u001b[0;34m\u001b[0m\u001b[0m\n\u001b[1;32m     16\u001b[0m     \u001b[0mpr_mask\u001b[0m \u001b[0;34m=\u001b[0m \u001b[0mnp\u001b[0m\u001b[0;34m.\u001b[0m\u001b[0msqueeze\u001b[0m\u001b[0;34m(\u001b[0m\u001b[0mpr_mask\u001b[0m\u001b[0;34m)\u001b[0m\u001b[0;34m\u001b[0m\u001b[0;34m\u001b[0m\u001b[0m\n\u001b[0;32m---> 17\u001b[0;31m     \u001b[0mresult\u001b[0m \u001b[0;34m=\u001b[0m \u001b[0mpredict_to_mask\u001b[0m\u001b[0;34m(\u001b[0m\u001b[0mpr_mask\u001b[0m\u001b[0;34m)\u001b[0m\u001b[0;34m\u001b[0m\u001b[0;34m\u001b[0m\u001b[0m\n\u001b[0m\u001b[1;32m     18\u001b[0m \u001b[0;31m#     print(result.shape)\u001b[0m\u001b[0;34m\u001b[0m\u001b[0;34m\u001b[0m\u001b[0;34m\u001b[0m\u001b[0m\n\u001b[1;32m     19\u001b[0m \u001b[0;31m#     print(result[12:1036,12:1036].shape)\u001b[0m\u001b[0;34m\u001b[0m\u001b[0;34m\u001b[0m\u001b[0;34m\u001b[0m\u001b[0m\n",
      "\u001b[0;32m<ipython-input-32-32712a478b1e>\u001b[0m in \u001b[0;36mpredict_to_mask\u001b[0;34m(pr_mask)\u001b[0m\n\u001b[1;32m     15\u001b[0m     \u001b[0;32mfor\u001b[0m \u001b[0mi\u001b[0m \u001b[0;32min\u001b[0m \u001b[0mrange\u001b[0m\u001b[0;34m(\u001b[0m\u001b[0mpr_mask\u001b[0m\u001b[0;34m.\u001b[0m\u001b[0mshape\u001b[0m\u001b[0;34m[\u001b[0m\u001b[0;36m0\u001b[0m\u001b[0;34m]\u001b[0m\u001b[0;34m)\u001b[0m\u001b[0;34m:\u001b[0m\u001b[0;34m\u001b[0m\u001b[0;34m\u001b[0m\u001b[0m\n\u001b[1;32m     16\u001b[0m         \u001b[0;32mfor\u001b[0m \u001b[0mj\u001b[0m \u001b[0;32min\u001b[0m \u001b[0mrange\u001b[0m\u001b[0;34m(\u001b[0m\u001b[0mpr_mask\u001b[0m\u001b[0;34m.\u001b[0m\u001b[0mshape\u001b[0m\u001b[0;34m[\u001b[0m\u001b[0;36m1\u001b[0m\u001b[0;34m]\u001b[0m\u001b[0;34m)\u001b[0m\u001b[0;34m:\u001b[0m\u001b[0;34m\u001b[0m\u001b[0;34m\u001b[0m\u001b[0m\n\u001b[0;32m---> 17\u001b[0;31m             \u001b[0mblank_image\u001b[0m\u001b[0;34m[\u001b[0m\u001b[0mi\u001b[0m\u001b[0;34m]\u001b[0m\u001b[0;34m[\u001b[0m\u001b[0mj\u001b[0m\u001b[0;34m]\u001b[0m \u001b[0;34m=\u001b[0m \u001b[0mpixel_list\u001b[0m\u001b[0;34m[\u001b[0m\u001b[0mnp\u001b[0m\u001b[0;34m.\u001b[0m\u001b[0margmax\u001b[0m\u001b[0;34m(\u001b[0m\u001b[0mpr_mask\u001b[0m\u001b[0;34m[\u001b[0m\u001b[0mi\u001b[0m\u001b[0;34m]\u001b[0m\u001b[0;34m[\u001b[0m\u001b[0mj\u001b[0m\u001b[0;34m]\u001b[0m\u001b[0;34m[\u001b[0m\u001b[0;36m1\u001b[0m\u001b[0;34m:\u001b[0m\u001b[0;34m]\u001b[0m\u001b[0;34m)\u001b[0m\u001b[0;34m+\u001b[0m\u001b[0;36m1\u001b[0m\u001b[0;34m]\u001b[0m\u001b[0;34m\u001b[0m\u001b[0;34m\u001b[0m\u001b[0m\n\u001b[0m\u001b[1;32m     18\u001b[0m     \u001b[0;32mreturn\u001b[0m \u001b[0mblank_image\u001b[0m\u001b[0;34m.\u001b[0m\u001b[0mastype\u001b[0m\u001b[0;34m(\u001b[0m\u001b[0;34m'uint8'\u001b[0m\u001b[0;34m)\u001b[0m\u001b[0;34m\u001b[0m\u001b[0;34m\u001b[0m\u001b[0m\n\u001b[1;32m     19\u001b[0m \u001b[0;34m\u001b[0m\u001b[0m\n",
      "\u001b[0;31mKeyboardInterrupt\u001b[0m: "
     ]
    }
   ],
   "metadata": {}
  },
  {
   "cell_type": "code",
   "execution_count": null,
   "source": [
    "# aaa = np.array([0.29071528,0.3377572,0.03147657,0.01822814,0.01488676,0.15431918,0.02666623,0.00479131,0.01952816,0.09542746,0.00620361])"
   ],
   "outputs": [],
   "metadata": {}
  },
  {
   "cell_type": "code",
   "execution_count": null,
   "source": [
    "# print(pr_mask.shape)\n",
    "# print(pr_mask[0][0].dtype)\n",
    "# print(pr_mask[0][0])\n",
    "# print(np.argmax(pr_mask[0][0]))"
   ],
   "outputs": [],
   "metadata": {}
  },
  {
   "cell_type": "code",
   "execution_count": null,
   "source": [
    "# print(np.argmax(aaa))\n",
    "# print(np.argmax(aaa[1:]))"
   ],
   "outputs": [],
   "metadata": {}
  },
  {
   "cell_type": "code",
   "execution_count": null,
   "source": [],
   "outputs": [],
   "metadata": {}
  }
 ],
 "metadata": {
  "kernelspec": {
   "display_name": "Python 3",
   "language": "python",
   "name": "python3"
  },
  "language_info": {
   "codemirror_mode": {
    "name": "ipython",
    "version": 3
   },
   "file_extension": ".py",
   "mimetype": "text/x-python",
   "name": "python",
   "nbconvert_exporter": "python",
   "pygments_lexer": "ipython3",
   "version": "3.6.7"
  }
 },
 "nbformat": 4,
 "nbformat_minor": 4
}