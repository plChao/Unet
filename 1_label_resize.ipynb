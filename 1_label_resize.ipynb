{
 "cells": [
  {
   "cell_type": "code",
   "execution_count": 2,
   "metadata": {},
   "outputs": [],
   "source": [
    "import os\n",
    "import csv\n",
    "import cv2\n",
    "import math\n",
    "import time\n",
    "import json\n",
    "import glob\n",
    "import shutil\n",
    "import pandas as pd\n",
    "import numpy as np\n",
    "import matplotlib.pyplot as plt\n",
    "\n",
    "from tqdm.notebook import tqdm as tqdm"
   ]
  },
  {
   "cell_type": "code",
   "execution_count": 6,
   "metadata": {},
   "outputs": [
    {
     "name": "stdout",
     "output_type": "stream",
     "text": [
      "4\n",
      "4\n"
     ]
    }
   ],
   "source": [
    "seg_img_1024_folder = './segmentation_1024/*.PNG'\n",
    "seg_img_1024_list = glob.glob(seg_img_1024_folder)\n",
    "seg_img_1024_list.sort()\n",
    "print(len(seg_img_1024_list))\n",
    "\n",
    "o_img_folder = './o_image/*.PNG'\n",
    "o_img_list = glob.glob(o_img_folder)\n",
    "o_img_list.sort()\n",
    "print(len(o_img_list))"
   ]
  },
  {
   "cell_type": "code",
   "execution_count": 8,
   "metadata": {},
   "outputs": [
    {
     "data": {
      "application/vnd.jupyter.widget-view+json": {
       "model_id": "3097672ba4e2457abb27dcad8a281d6b",
       "version_major": 2,
       "version_minor": 0
      },
      "text/plain": [
       "HBox(children=(IntProgress(value=0, max=4), HTML(value='')))"
      ]
     },
     "metadata": {},
     "output_type": "display_data"
    },
    {
     "name": "stdout",
     "output_type": "stream",
     "text": [
      "\n"
     ]
    }
   ],
   "source": [
    "seg_o_size_save_path = './segmentation_original_size'\n",
    "\n",
    "for seg_img_path in tqdm(seg_img_1024_list, total=len(seg_img_1024_list)):\n",
    "    seg_image_name = seg_img_path.split('/')[-1]\n",
    "    seg_img = cv2.imread(seg_img_path)\n",
    "    #find image in o_img_list, cv2.read the image_path can get original image size\n",
    "    o_img_path = [img_path for img_path in o_img_list if seg_image_name in img_path]\n",
    "    o_img = cv2.imread(o_img_path[0])\n",
    "    seg_img_original_size = cv2.resize(seg_img,(o_img.shape[1],o_img.shape[0]), interpolation = cv2.INTER_NEAREST)\n",
    "    \n",
    "    cv2.imwrite(os.path.join(seg_o_size_save_path, seg_image_name), seg_img_original_size)"
   ]
  },
  {
   "cell_type": "code",
   "execution_count": null,
   "metadata": {},
   "outputs": [],
   "source": []
  },
  {
   "cell_type": "code",
   "execution_count": null,
   "metadata": {},
   "outputs": [],
   "source": []
  },
  {
   "cell_type": "code",
   "execution_count": null,
   "metadata": {},
   "outputs": [],
   "source": []
  }
 ],
 "metadata": {
  "kernelspec": {
   "display_name": "Python 3",
   "language": "python",
   "name": "python3"
  },
  "language_info": {
   "codemirror_mode": {
    "name": "ipython",
    "version": 3
   },
   "file_extension": ".py",
   "mimetype": "text/x-python",
   "name": "python",
   "nbconvert_exporter": "python",
   "pygments_lexer": "ipython3",
   "version": "3.6.7"
  }
 },
 "nbformat": 4,
 "nbformat_minor": 4
}
