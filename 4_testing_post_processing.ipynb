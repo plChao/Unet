{
 "cells": [
  {
   "cell_type": "code",
   "execution_count": 65,
   "metadata": {},
   "outputs": [],
   "source": [
    "# import own 共用 lib code\n",
    "import sys\n",
    "sys.path.append(r\"../data/data_checking_code/\")\n",
    "\n",
    "import folder_tool\n",
    "import tool\n",
    "import vis_tool\n",
    "\n",
    "import os\n",
    "os.environ['CUDA_VISIBLE_DEVICES'] = ''\n",
    "\n",
    "import cv2\n",
    "import tensorflow.keras as keras\n",
    "import shutil\n",
    "import numpy as np\n",
    "import matplotlib.pyplot as plt\n",
    "import glob\n",
    "\n",
    "from tqdm.notebook import tqdm"
   ]
  },
  {
   "cell_type": "code",
   "execution_count": 66,
   "metadata": {},
   "outputs": [],
   "source": [
    "# check output folder\n",
    "for img_type in ['train', 'val', 'test']:\n",
    "    folder_tool.check_folder('./result_post_process/{}_pred_raw'.format(img_type))\n",
    "folder_tool.check_folder('./result_post_process/seg_raw/')"
   ]
  },
  {
   "cell_type": "code",
   "execution_count": 67,
   "metadata": {},
   "outputs": [],
   "source": [
    "# Input\n",
    "# TODO 使用 CEJ 圖片\n",
    "# CEJ_images_folder = '' # run all images in ./result/\n",
    "CEJ_images_folder = './result/seg_raw/'\n",
    "o_img_folder = '../data/1_o_image_512/'\n",
    "assert len(glob.glob(o_img_folder + '/*.PNG')) > 0, 'wrong o_img_path'\n",
    "if CEJ_images_folder:\n",
    "    CEJ_img_paths = glob.glob(CEJ_images_folder + '/*.PNG')\n",
    "else:\n",
    "    CEJ_img_paths = glob.glob('./result/*_raw/*.PNG')\n",
    "# TODO input 預期是 img_size*img_size 的圖片\n",
    "img_size = 512\n",
    "black_img = np.zeros((img_size, img_size))"
   ]
  },
  {
   "cell_type": "code",
   "execution_count": 68,
   "metadata": {},
   "outputs": [],
   "source": [
    "tar_img_id = [\n",
    "    # \"NN_110919_161350_C04CBC\",\n",
    "    # \"NN_100825_103844_C0381C\",\n",
    "    # \"NN_100825_103850_C0381F\",\n",
    "    # \"NN_120827_095402_BFFF3E\",\n",
    "    # \"NN_170619_152245_16F2F5\",\n",
    "    # \"NN_171005_134750_98B6EE\",\n",
    "    # \"NN_180122_144804_16F0BD\",\n",
    "    # \"NN_180717_140845_98BC97\",\n",
    "    # \"NN_180717_140916_98BC9B\"\n",
    "]"
   ]
  },
  {
   "cell_type": "code",
   "execution_count": 69,
   "metadata": {},
   "outputs": [
    {
     "data": {
      "application/vnd.jupyter.widget-view+json": {
       "model_id": "794858803c4d43e092430ab06bc9b960",
       "version_major": 2,
       "version_minor": 0
      },
      "text/plain": [
       "  0%|          | 0/533 [00:00<?, ?it/s]"
      ]
     },
     "metadata": {},
     "output_type": "display_data"
    }
   ],
   "source": [
    "for img_path in tqdm(CEJ_img_paths):\n",
    "    # get cej point\n",
    "    if len(tar_img_id) != 0 and \\\n",
    "            os.path.basename(img_path)[:-4] not in tar_img_id:\n",
    "        continue\n",
    "    # print(os.path.basename(img_path))\n",
    "\n",
    "    CEJ_mask = cv2.imread(img_path, 0)\n",
    "\n",
    "    pixel_y_cord_list = np.where(CEJ_mask == 255)[0]\n",
    "    # vis_tool.dist_vis(pixel_y_cord_list, 5, os.path.basename(img_path), 20)\n",
    "\n",
    "\n",
    "    contours, _ = cv2.findContours(CEJ_mask.astype(np.uint8), cv2.RETR_TREE, cv2.CHAIN_APPROX_SIMPLE)\n",
    "    contours = sorted(contours, key = lambda x: np.mean(np.transpose(x)[0]))\n",
    "    CEJ_link_mask = black_img.copy()\n",
    "\n",
    "    # link the contours\n",
    "    ex_cont_pt = []\n",
    "    for cont in contours:\n",
    "        cv2.drawContours(CEJ_link_mask, [cont], -1, 255, cv2.FILLED)\n",
    "        start_pt = min(cont, key = lambda x: (x[0][0], x[0][1]))[0]\n",
    "        end_pt = max(cont, key = lambda x: (x[0][0], x[0][1]))[0]\n",
    "        # left most point\n",
    "        if len(ex_cont_pt) > 0:\n",
    "            cv2.line(CEJ_link_mask, ex_cont_pt, start_pt, 255, 1)\n",
    "        ex_cont_pt = end_pt\n",
    "    target_path = img_path.replace('./result/', './result_post_process/')\n",
    "    o_img = cv2.imread('../data/1_o_image_512/' + os.path.basename(img_path), 0)\n",
    "    \n",
    "    # vis_tool.visualize([CEJ_mask, CEJ_link_mask, o_img])\n",
    "    \n",
    "    cv2.imwrite(target_path, CEJ_link_mask)\n",
    "    # CEJ_link_test = cv2.imread(target_path, 0)\n",
    "    # assert len(CEJ_link_test.shape) == 2, CEJ_link_test.shape\n",
    "    # assert (np.unique(CEJ_link_test) == np.unique(CEJ_mask)).all(), np.unique(CEJ_link_test)\n"
   ]
  },
  {
   "cell_type": "code",
   "execution_count": null,
   "metadata": {},
   "outputs": [],
   "source": []
  }
 ],
 "metadata": {
  "kernelspec": {
   "display_name": "Python 3.8.12 ('tf240')",
   "language": "python",
   "name": "python3"
  },
  "language_info": {
   "codemirror_mode": {
    "name": "ipython",
    "version": 3
   },
   "file_extension": ".py",
   "mimetype": "text/x-python",
   "name": "python",
   "nbconvert_exporter": "python",
   "pygments_lexer": "ipython3",
   "version": "3.8.12"
  },
  "orig_nbformat": 4,
  "vscode": {
   "interpreter": {
    "hash": "925eed15a09785ea670c450338f15285525c6554b5d581a223c6722b664038a2"
   }
  }
 },
 "nbformat": 4,
 "nbformat_minor": 2
}
