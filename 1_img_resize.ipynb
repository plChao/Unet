{
 "cells": [
  {
   "cell_type": "code",
   "execution_count": null,
   "metadata": {},
   "outputs": [],
   "source": [
    "import os\n",
    "import csv\n",
    "import cv2\n",
    "import math\n",
    "import time\n",
    "import json\n",
    "import glob\n",
    "import shutil\n",
    "import pandas as pd\n",
    "import numpy as np\n",
    "import matplotlib.pyplot as plt\n",
    "\n",
    "from tqdm.notebook import tqdm as tqdm"
   ]
  },
  {
   "cell_type": "markdown",
   "metadata": {},
   "source": [
    "# Load original image resize to 1024 for model input"
   ]
  },
  {
   "cell_type": "code",
   "execution_count": null,
   "metadata": {},
   "outputs": [],
   "source": [
    "o_img_folder = '../data/1_o_image_all/*.PNG' \n",
    "# TODO 輸入資料夾\n",
    "o_img_list = glob.glob(o_img_folder)\n",
    "o_img_list.sort()\n",
    "print(len(o_img_list))"
   ]
  },
  {
   "cell_type": "code",
   "execution_count": null,
   "metadata": {},
   "outputs": [],
   "source": [
    "save_path = '../data/1_o_image_512/' # TODO 輸出資料夾\n",
    "\n",
    "for img_path in tqdm(o_img_list, total=len(o_img_list)):\n",
    "    image_name = os.path.basename(img_path)\n",
    "    img = cv2.imread(img_path)\n",
    "    img_resize_1024 = cv2.resize(img,(512,512)) # TODO 目標大小\n",
    "    cv2.imwrite(os.path.join(save_path, image_name), img_resize_1024)"
   ]
  },
  {
   "cell_type": "code",
   "execution_count": null,
   "metadata": {},
   "outputs": [],
   "source": []
  }
 ],
 "metadata": {
  "kernelspec": {
   "display_name": "Python 3.6.13 ('segment-gpu')",
   "language": "python",
   "name": "python3"
  },
  "language_info": {
   "codemirror_mode": {
    "name": "ipython",
    "version": 3
   },
   "file_extension": ".py",
   "mimetype": "text/x-python",
   "name": "python",
   "nbconvert_exporter": "python",
   "pygments_lexer": "ipython3",
   "version": "3.6.13"
  },
  "vscode": {
   "interpreter": {
    "hash": "d5b1b23edd1e76873f5c581c9db03e5890e6b4fbab0d28dc3e030bb716ec4f19"
   }
  }
 },
 "nbformat": 4,
 "nbformat_minor": 4
}
