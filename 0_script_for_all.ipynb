{
 "cells": [
  {
   "cell_type": "code",
   "execution_count": 2,
   "metadata": {},
   "outputs": [
    {
     "name": "stdout",
     "output_type": "stream",
     "text": [
      "['./0_data_json_setting\\\\CEJ_5_pixel.json']\n",
      "running CEJ_5_pixel\n"
     ]
    },
    {
     "data": {
      "application/vnd.jupyter.widget-view+json": {
       "model_id": "1bba1fb70727401da4510f977b6c8694",
       "version_major": 2,
       "version_minor": 0
      },
      "text/plain": [
       "  0%|          | 0/918 [00:00<?, ?it/s]"
      ]
     },
     "metadata": {},
     "output_type": "display_data"
    },
    {
     "name": "stdout",
     "output_type": "stream",
     "text": [
      "generate 385 / 385 label data, and 533 unlabel data\n",
      "running CEJ_5_pixel\n",
      "create not exists folder ../3-Unet-mask-process/1_mask_image/result_post_process/\n"
     ]
    },
    {
     "data": {
      "application/vnd.jupyter.widget-view+json": {
       "model_id": "dfc520c46084493eb72be8cedc00f282",
       "version_major": 2,
       "version_minor": 0
      },
      "text/plain": [
       "0it [00:00, ?it/s]"
      ]
     },
     "metadata": {},
     "output_type": "display_data"
    },
    {
     "name": "stdout",
     "output_type": "stream",
     "text": [
      "running CEJ_5_pixel\n"
     ]
    },
    {
     "data": {
      "application/vnd.jupyter.widget-view+json": {
       "model_id": "ed0af2ca9acd45f8a171a7d66962a201",
       "version_major": 2,
       "version_minor": 0
      },
      "text/plain": [
       "  0%|          | 0/385 [00:00<?, ?it/s]"
      ]
     },
     "metadata": {},
     "output_type": "display_data"
    },
    {
     "ename": "ValueError",
     "evalue": "operands could not be broadcast together with shapes (1024,1024) (512,512) ",
     "output_type": "error",
     "traceback": [
      "\u001b[1;31m---------------------------------------------------------------------------\u001b[0m",
      "\u001b[1;31mValueError\u001b[0m                                Traceback (most recent call last)",
      "File \u001b[1;32m~\\AppData\\Local\\Temp\\ipykernel_29440\\440596537.py:12\u001b[0m\n\u001b[0;32m     10\u001b[0m     \u001b[39mcontinue\u001b[39;00m\n\u001b[0;32m     11\u001b[0m label_img \u001b[39m=\u001b[39m np\u001b[39m.\u001b[39mwhere(label_img \u001b[39m!=\u001b[39m \u001b[39m0\u001b[39m, \u001b[39m255\u001b[39m, \u001b[39m0\u001b[39m)\n\u001b[1;32m---> 12\u001b[0m result_iou \u001b[39m=\u001b[39m count_iou(pre_img, label_img, \u001b[39m255\u001b[39;49m)\n\u001b[0;32m     13\u001b[0m result_PA \u001b[39m=\u001b[39m count_pixel_acc(pre_img, label_img, \u001b[39m255\u001b[39m)\n\u001b[0;32m     14\u001b[0m cont_label_img \u001b[39m=\u001b[39m cv2\u001b[39m.\u001b[39mimread(\u001b[39mf\u001b[39m\u001b[39m'\u001b[39m\u001b[39m../3-Unet-mask-process/385_cej_1_pixel_512/CEJ_line_mask/\u001b[39m\u001b[39m{\u001b[39;00mimg_name\u001b[39m}\u001b[39;00m\u001b[39m'\u001b[39m, \u001b[39m0\u001b[39m)\n",
      "File \u001b[1;32m~\\AppData\\Local\\Temp\\ipykernel_29440\\2837812367.py:8\u001b[0m, in \u001b[0;36mcount_iou\u001b[1;34m(label_img_gray, predict_img_gray, val)\u001b[0m\n\u001b[0;32m      6\u001b[0m label_target \u001b[39m=\u001b[39m np\u001b[39m.\u001b[39mwhere(label_img_gray\u001b[39m==\u001b[39mval, \u001b[39m1\u001b[39m, \u001b[39m0\u001b[39m)\n\u001b[0;32m      7\u001b[0m predict_target \u001b[39m=\u001b[39m np\u001b[39m.\u001b[39mwhere(predict_img_gray\u001b[39m==\u001b[39mval, \u001b[39m1\u001b[39m, \u001b[39m0\u001b[39m)\n\u001b[1;32m----> 8\u001b[0m intersection \u001b[39m=\u001b[39m np\u001b[39m.\u001b[39;49mlogical_and(label_target, predict_target)\n\u001b[0;32m      9\u001b[0m union \u001b[39m=\u001b[39m np\u001b[39m.\u001b[39mlogical_or(label_target, predict_target)\n\u001b[0;32m     10\u001b[0m iou_score \u001b[39m=\u001b[39m np\u001b[39m.\u001b[39msum(intersection) \u001b[39m/\u001b[39m np\u001b[39m.\u001b[39msum(union)\n",
      "\u001b[1;31mValueError\u001b[0m: operands could not be broadcast together with shapes (1024,1024) (512,512) "
     ]
    },
    {
     "ename": "ValueError",
     "evalue": "operands could not be broadcast together with shapes (1024,1024) (512,512) ",
     "output_type": "error",
     "traceback": [
      "\u001b[1;31m---------------------------------------------------------------------------\u001b[0m",
      "\u001b[1;31mValueError\u001b[0m                                Traceback (most recent call last)",
      "Cell \u001b[1;32mIn[2], line 14\u001b[0m\n\u001b[0;32m     12\u001b[0m shutil\u001b[39m.\u001b[39mcopyfile(json_path, \u001b[39m'\u001b[39m\u001b[39m./0_data_json_setting/0_run.json\u001b[39m\u001b[39m'\u001b[39m)\n\u001b[0;32m     13\u001b[0m \u001b[39mfor\u001b[39;00m notebook \u001b[39min\u001b[39;00m notebooks:\n\u001b[1;32m---> 14\u001b[0m     get_ipython()\u001b[39m.\u001b[39;49mrun_line_magic(\u001b[39m'\u001b[39;49m\u001b[39mrun\u001b[39;49m\u001b[39m'\u001b[39;49m, \u001b[39m'\u001b[39;49m\u001b[39m$notebook\u001b[39;49m\u001b[39m'\u001b[39;49m)\n",
      "File \u001b[1;32mc:\\Users\\lab620\\anaconda3\\envs\\tf240\\lib\\site-packages\\IPython\\core\\interactiveshell.py:2414\u001b[0m, in \u001b[0;36mInteractiveShell.run_line_magic\u001b[1;34m(self, magic_name, line, _stack_depth)\u001b[0m\n\u001b[0;32m   2412\u001b[0m     kwargs[\u001b[39m'\u001b[39m\u001b[39mlocal_ns\u001b[39m\u001b[39m'\u001b[39m] \u001b[39m=\u001b[39m \u001b[39mself\u001b[39m\u001b[39m.\u001b[39mget_local_scope(stack_depth)\n\u001b[0;32m   2413\u001b[0m \u001b[39mwith\u001b[39;00m \u001b[39mself\u001b[39m\u001b[39m.\u001b[39mbuiltin_trap:\n\u001b[1;32m-> 2414\u001b[0m     result \u001b[39m=\u001b[39m fn(\u001b[39m*\u001b[39;49margs, \u001b[39m*\u001b[39;49m\u001b[39m*\u001b[39;49mkwargs)\n\u001b[0;32m   2416\u001b[0m \u001b[39m# The code below prevents the output from being displayed\u001b[39;00m\n\u001b[0;32m   2417\u001b[0m \u001b[39m# when using magics with decodator @output_can_be_silenced\u001b[39;00m\n\u001b[0;32m   2418\u001b[0m \u001b[39m# when the last Python token in the expression is a ';'.\u001b[39;00m\n\u001b[0;32m   2419\u001b[0m \u001b[39mif\u001b[39;00m \u001b[39mgetattr\u001b[39m(fn, magic\u001b[39m.\u001b[39mMAGIC_OUTPUT_CAN_BE_SILENCED, \u001b[39mFalse\u001b[39;00m):\n",
      "File \u001b[1;32mc:\\Users\\lab620\\anaconda3\\envs\\tf240\\lib\\site-packages\\IPython\\core\\magics\\execution.py:722\u001b[0m, in \u001b[0;36mExecutionMagics.run\u001b[1;34m(self, parameter_s, runner, file_finder)\u001b[0m\n\u001b[0;32m    720\u001b[0m     \u001b[39mwith\u001b[39;00m preserve_keys(\u001b[39mself\u001b[39m\u001b[39m.\u001b[39mshell\u001b[39m.\u001b[39muser_ns, \u001b[39m'\u001b[39m\u001b[39m__file__\u001b[39m\u001b[39m'\u001b[39m):\n\u001b[0;32m    721\u001b[0m         \u001b[39mself\u001b[39m\u001b[39m.\u001b[39mshell\u001b[39m.\u001b[39muser_ns[\u001b[39m'\u001b[39m\u001b[39m__file__\u001b[39m\u001b[39m'\u001b[39m] \u001b[39m=\u001b[39m filename\n\u001b[1;32m--> 722\u001b[0m         \u001b[39mself\u001b[39;49m\u001b[39m.\u001b[39;49mshell\u001b[39m.\u001b[39;49msafe_execfile_ipy(filename, raise_exceptions\u001b[39m=\u001b[39;49m\u001b[39mTrue\u001b[39;49;00m)\n\u001b[0;32m    723\u001b[0m     \u001b[39mreturn\u001b[39;00m\n\u001b[0;32m    725\u001b[0m \u001b[39m# Control the response to exit() calls made by the script being run\u001b[39;00m\n",
      "File \u001b[1;32mc:\\Users\\lab620\\anaconda3\\envs\\tf240\\lib\\site-packages\\IPython\\core\\interactiveshell.py:2936\u001b[0m, in \u001b[0;36mInteractiveShell.safe_execfile_ipy\u001b[1;34m(self, fname, shell_futures, raise_exceptions)\u001b[0m\n\u001b[0;32m   2934\u001b[0m result \u001b[39m=\u001b[39m \u001b[39mself\u001b[39m\u001b[39m.\u001b[39mrun_cell(cell, silent\u001b[39m=\u001b[39m\u001b[39mTrue\u001b[39;00m, shell_futures\u001b[39m=\u001b[39mshell_futures)\n\u001b[0;32m   2935\u001b[0m \u001b[39mif\u001b[39;00m raise_exceptions:\n\u001b[1;32m-> 2936\u001b[0m     result\u001b[39m.\u001b[39;49mraise_error()\n\u001b[0;32m   2937\u001b[0m \u001b[39melif\u001b[39;00m \u001b[39mnot\u001b[39;00m result\u001b[39m.\u001b[39msuccess:\n\u001b[0;32m   2938\u001b[0m     \u001b[39mbreak\u001b[39;00m\n",
      "File \u001b[1;32mc:\\Users\\lab620\\anaconda3\\envs\\tf240\\lib\\site-packages\\IPython\\core\\interactiveshell.py:268\u001b[0m, in \u001b[0;36mExecutionResult.raise_error\u001b[1;34m(self)\u001b[0m\n\u001b[0;32m    266\u001b[0m     \u001b[39mraise\u001b[39;00m \u001b[39mself\u001b[39m\u001b[39m.\u001b[39merror_before_exec\n\u001b[0;32m    267\u001b[0m \u001b[39mif\u001b[39;00m \u001b[39mself\u001b[39m\u001b[39m.\u001b[39merror_in_exec \u001b[39mis\u001b[39;00m \u001b[39mnot\u001b[39;00m \u001b[39mNone\u001b[39;00m:\n\u001b[1;32m--> 268\u001b[0m     \u001b[39mraise\u001b[39;00m \u001b[39mself\u001b[39m\u001b[39m.\u001b[39merror_in_exec\n",
      "    \u001b[1;31m[... skipping hidden 1 frame]\u001b[0m\n",
      "File \u001b[1;32m~\\AppData\\Local\\Temp\\ipykernel_29440\\440596537.py:12\u001b[0m\n\u001b[0;32m     10\u001b[0m     \u001b[39mcontinue\u001b[39;00m\n\u001b[0;32m     11\u001b[0m label_img \u001b[39m=\u001b[39m np\u001b[39m.\u001b[39mwhere(label_img \u001b[39m!=\u001b[39m \u001b[39m0\u001b[39m, \u001b[39m255\u001b[39m, \u001b[39m0\u001b[39m)\n\u001b[1;32m---> 12\u001b[0m result_iou \u001b[39m=\u001b[39m count_iou(pre_img, label_img, \u001b[39m255\u001b[39;49m)\n\u001b[0;32m     13\u001b[0m result_PA \u001b[39m=\u001b[39m count_pixel_acc(pre_img, label_img, \u001b[39m255\u001b[39m)\n\u001b[0;32m     14\u001b[0m cont_label_img \u001b[39m=\u001b[39m cv2\u001b[39m.\u001b[39mimread(\u001b[39mf\u001b[39m\u001b[39m'\u001b[39m\u001b[39m../3-Unet-mask-process/385_cej_1_pixel_512/CEJ_line_mask/\u001b[39m\u001b[39m{\u001b[39;00mimg_name\u001b[39m}\u001b[39;00m\u001b[39m'\u001b[39m, \u001b[39m0\u001b[39m)\n",
      "File \u001b[1;32m~\\AppData\\Local\\Temp\\ipykernel_29440\\2837812367.py:8\u001b[0m, in \u001b[0;36mcount_iou\u001b[1;34m(label_img_gray, predict_img_gray, val)\u001b[0m\n\u001b[0;32m      6\u001b[0m label_target \u001b[39m=\u001b[39m np\u001b[39m.\u001b[39mwhere(label_img_gray\u001b[39m==\u001b[39mval, \u001b[39m1\u001b[39m, \u001b[39m0\u001b[39m)\n\u001b[0;32m      7\u001b[0m predict_target \u001b[39m=\u001b[39m np\u001b[39m.\u001b[39mwhere(predict_img_gray\u001b[39m==\u001b[39mval, \u001b[39m1\u001b[39m, \u001b[39m0\u001b[39m)\n\u001b[1;32m----> 8\u001b[0m intersection \u001b[39m=\u001b[39m np\u001b[39m.\u001b[39;49mlogical_and(label_target, predict_target)\n\u001b[0;32m      9\u001b[0m union \u001b[39m=\u001b[39m np\u001b[39m.\u001b[39mlogical_or(label_target, predict_target)\n\u001b[0;32m     10\u001b[0m iou_score \u001b[39m=\u001b[39m np\u001b[39m.\u001b[39msum(intersection) \u001b[39m/\u001b[39m np\u001b[39m.\u001b[39msum(union)\n",
      "\u001b[1;31mValueError\u001b[0m: operands could not be broadcast together with shapes (1024,1024) (512,512) "
     ]
    }
   ],
   "source": [
    "import glob\n",
    "import shutil\n",
    "json_path_list = glob.glob('./0_data_json_setting/*[5]_pixel.json')\n",
    "print(json_path_list)\n",
    "notebooks = [\n",
    "            # './3_train_model_Unet.ipynb',\\\n",
    "            './4_test_model_Unet.ipynb',\\\n",
    "            './4_testing_post_processing.ipynb',\\\n",
    "            './5_get_predict_IOU.ipynb'\\\n",
    "            ]\n",
    "for json_path in json_path_list:\n",
    "    shutil.copyfile(json_path, './0_data_json_setting/0_run.json')\n",
    "    for notebook in notebooks:\n",
    "        %run $notebook"
   ]
  },
  {
   "cell_type": "code",
   "execution_count": null,
   "metadata": {},
   "outputs": [],
   "source": []
  }
 ],
 "metadata": {
  "kernelspec": {
   "display_name": "tf240",
   "language": "python",
   "name": "python3"
  },
  "language_info": {
   "codemirror_mode": {
    "name": "ipython",
    "version": 3
   },
   "file_extension": ".py",
   "mimetype": "text/x-python",
   "name": "python",
   "nbconvert_exporter": "python",
   "pygments_lexer": "ipython3",
   "version": "3.8.12"
  },
  "orig_nbformat": 4
 },
 "nbformat": 4,
 "nbformat_minor": 2
}
