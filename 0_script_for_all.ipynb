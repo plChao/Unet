{
 "cells": [
  {
   "cell_type": "code",
   "execution_count": null,
   "metadata": {},
   "outputs": [],
   "source": [
    "import glob\n",
    "import shutil\n",
    "json_path_list = glob.glob('./0_data_json_setting/*[5]_pixel.json')\n",
    "print(json_path_list)\n",
    "notebooks = [\n",
    "            # './3_train_model_Unet.ipynb',\\\n",
    "            './4_test_model_Unet.ipynb',\\\n",
    "            './4_testing_post_processing.ipynb',\\\n",
    "            './5_get_predict_IOU.ipynb'\\\n",
    "            ]\n",
    "for json_path in json_path_list:\n",
    "    shutil.copyfile(json_path, './0_data_json_setting/0_run.json')\n",
    "    for notebook in notebooks:\n",
    "        %run $notebook"
   ]
  },
  {
   "cell_type": "code",
   "execution_count": null,
   "metadata": {},
   "outputs": [],
   "source": []
  }
 ],
 "metadata": {
  "kernelspec": {
   "display_name": "tf240",
   "language": "python",
   "name": "python3"
  },
  "language_info": {
   "codemirror_mode": {
    "name": "ipython",
    "version": 3
   },
   "file_extension": ".py",
   "mimetype": "text/x-python",
   "name": "python",
   "nbconvert_exporter": "python",
   "pygments_lexer": "ipython3",
   "version": "3.8.12"
  },
  "orig_nbformat": 4
 },
 "nbformat": 4,
 "nbformat_minor": 2
}
