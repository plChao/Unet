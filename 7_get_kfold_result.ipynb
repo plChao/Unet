{
 "cells": [
  {
   "cell_type": "code",
   "execution_count": null,
   "metadata": {},
   "outputs": [],
   "source": [
    "import pandas as pd\n",
    "import glob\n",
    "import os\n",
    "\n",
    "# Get a list of CSV file paths using glob\n",
    "# csv_files = glob.glob('./IOU_csv/CEJ_512_v1_k_fold_[1-5].csv')  # Replace with the actual path pattern\n",
    "csv_files = glob.glob('./IOU_csv/CEJ_[1-9]_pixel.csv')  # Replace with the actual path pattern\n",
    "\n",
    "print(csv_files)\n",
    "# Create an empty list to store the calculated results\n",
    "results = []\n",
    "\n",
    "# Iterate through each CSV file\n",
    "for csv_file in csv_files:\n",
    "    # Read the CSV file into a pandas DataFrame\n",
    "    data = pd.read_csv(csv_file)\n",
    "    \n",
    "    # Calculate the mean of 'iou' and 'PA' columns\n",
    "    data = data[data['image_set'] == 'test_pred_raw']\n",
    "    mean_iou = data['iou'].mean()\n",
    "    mean_pa = data['PA'].mean()\n",
    "    dist_mean = data['dist_mean'].mean()\n",
    "    post_dist_mean = data['post_dist_mean'].mean()\n",
    "    \n",
    "    # Extract the CSV name from the file path\n",
    "    csv_name = os.path.basename(csv_file).replace('.csv', '')\n",
    "    \n",
    "    # Append the results to the list\n",
    "    results.append({'csv_name': csv_name, 'mean_iou': mean_iou, 'mean_pa': mean_pa, \\\n",
    "                    'dist_mean': dist_mean, 'post_dist_mean': post_dist_mean})\n",
    "\n",
    "# Create a new DataFrame from the results list\n",
    "results_df = pd.DataFrame(results)\n",
    "\n",
    "# Print the results DataFrame\n",
    "\n"
   ]
  },
  {
   "cell_type": "code",
   "execution_count": null,
   "metadata": {},
   "outputs": [],
   "source": [
    "# Calculate the mean and standard deviation for each metric\n",
    "mean_iou = results_df['mean_iou'].mean()\n",
    "std_iou = results_df['mean_iou'].std()\n",
    "\n",
    "mean_pa = results_df['mean_pa'].mean()\n",
    "std_pa = results_df['mean_pa'].std()\n",
    "\n",
    "# Add the overall mean and standard deviation to the final results DataFrame\n",
    "results_df = results_df.append({\n",
    "    'csv_name': 'Overall',\n",
    "    'mean_iou': mean_iou,\n",
    "    'mean_pa': mean_pa\n",
    "}, ignore_index=True)\n",
    "\n",
    "results_df = results_df.append({\n",
    "    'csv_name': 'Overall std',\n",
    "    'mean_iou': std_iou,\n",
    "    'mean_pa': std_pa\n",
    "}, ignore_index=True)\n",
    "\n",
    "# Print the final results DataFrame\n",
    "print(results_df)"
   ]
  },
  {
   "cell_type": "code",
   "execution_count": null,
   "metadata": {},
   "outputs": [],
   "source": [
    "formatters = {\n",
    "    'mean_iou': '{:,.2%}'.format,\n",
    "    'mean_pa': '{:,.2%}'.format\n",
    "}\n",
    "\n",
    "# Apply the formatters to the DataFrame and convert to string\n",
    "output = results_df.to_string(formatters=formatters, index=False)\n",
    "print(output)\n",
    "results_df.to_csv('./tmp.csv', index=False)"
   ]
  },
  {
   "cell_type": "code",
   "execution_count": null,
   "metadata": {},
   "outputs": [],
   "source": []
  }
 ],
 "metadata": {
  "kernelspec": {
   "display_name": "tf240",
   "language": "python",
   "name": "python3"
  },
  "language_info": {
   "codemirror_mode": {
    "name": "ipython",
    "version": 3
   },
   "file_extension": ".py",
   "mimetype": "text/x-python",
   "name": "python",
   "nbconvert_exporter": "python",
   "pygments_lexer": "ipython3",
   "version": "3.8.12"
  },
  "orig_nbformat": 4
 },
 "nbformat": 4,
 "nbformat_minor": 2
}
