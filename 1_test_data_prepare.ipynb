{
 "cells": [
  {
   "cell_type": "code",
   "execution_count": 1,
   "metadata": {},
   "outputs": [],
   "source": [
    "import os\n",
    "import csv\n",
    "import cv2\n",
    "import math\n",
    "import time\n",
    "import json\n",
    "import glob\n",
    "import shutil\n",
    "import pandas as pd\n",
    "import numpy as np\n",
    "import matplotlib.pyplot as plt\n",
    "\n",
    "from tqdm.notebook import tqdm as tqdm"
   ]
  },
  {
   "cell_type": "markdown",
   "metadata": {},
   "source": [
    "# Load original image resize to 1024 for model input"
   ]
  },
  {
   "cell_type": "code",
   "execution_count": 2,
   "metadata": {},
   "outputs": [
    {
     "name": "stdout",
     "output_type": "stream",
     "text": [
      "4\n"
     ]
    }
   ],
   "source": [
    "#you only need ot put data in folder ('./o_image)\n",
    "o_img_folder = './o_image/*.PNG'\n",
    "o_img_list = glob.glob(o_img_folder)\n",
    "o_img_list.sort()\n",
    "print(len(o_img_list))"
   ]
  },
  {
   "cell_type": "code",
   "execution_count": 3,
   "metadata": {},
   "outputs": [
    {
     "data": {
      "application/vnd.jupyter.widget-view+json": {
       "model_id": "87451a7d7c0040e8b965300e26f79639",
       "version_major": 2,
       "version_minor": 0
      },
      "text/plain": [
       "HBox(children=(IntProgress(value=0, max=4), HTML(value='')))"
      ]
     },
     "metadata": {},
     "output_type": "display_data"
    },
    {
     "name": "stdout",
     "output_type": "stream",
     "text": [
      "\n"
     ]
    }
   ],
   "source": [
    "save_path = './o_image_1024'\n",
    "\n",
    "for img_path in tqdm(o_img_list, total=len(o_img_list)):\n",
    "    image_name = img_path.split('/')[-1]\n",
    "    img = cv2.imread(img_path)\n",
    "    img_resize_1024 = cv2.resize(img,(1024,1204))\n",
    "    cv2.imwrite(os.path.join(save_path, image_name), img_resize_1024)"
   ]
  },
  {
   "cell_type": "code",
   "execution_count": 4,
   "metadata": {},
   "outputs": [
    {
     "ename": "AssertionError",
     "evalue": "Stop --> after model prediction in folder \"\"./segmentation_1024\" and continue",
     "output_type": "error",
     "traceback": [
      "\u001b[0;31m---------------------------------------------------------------------------\u001b[0m",
      "\u001b[0;31mAssertionError\u001b[0m                            Traceback (most recent call last)",
      "\u001b[0;32m<ipython-input-4-b0216f46ce69>\u001b[0m in \u001b[0;36m<module>\u001b[0;34m\u001b[0m\n\u001b[0;32m----> 1\u001b[0;31m \u001b[0;32massert\u001b[0m \u001b[0;32mTrue\u001b[0m \u001b[0;34m==\u001b[0m \u001b[0;32mFalse\u001b[0m \u001b[0;34m,\u001b[0m \u001b[0;34m'Stop --> after model prediction in folder \"\"./segmentation_1024\" and continue'\u001b[0m\u001b[0;34m\u001b[0m\u001b[0;34m\u001b[0m\u001b[0m\n\u001b[0m",
      "\u001b[0;31mAssertionError\u001b[0m: Stop --> after model prediction in folder \"\"./segmentation_1024\" and continue"
     ]
    }
   ],
   "source": [
    "assert True == False , 'Stop --> after model prediction in folder \"\"./segmentation_1024\" and continue'"
   ]
  },
  {
   "cell_type": "markdown",
   "metadata": {},
   "source": [
    "# segmentation model input test image = (./o_image_1024)\n",
    "# segmentation model output result image = (./segmentation_1024)"
   ]
  },
  {
   "cell_type": "code",
   "execution_count": 6,
   "metadata": {},
   "outputs": [
    {
     "name": "stdout",
     "output_type": "stream",
     "text": [
      "4\n",
      "4\n"
     ]
    }
   ],
   "source": [
    "seg_img_1024_folder = './segmentation_1024/*.PNG'\n",
    "seg_img_1024_list = glob.glob(seg_img_1024_folder)\n",
    "seg_img_1024_list.sort()\n",
    "print(len(seg_img_1024_list))\n",
    "\n",
    "o_img_folder = './o_image/*.PNG'\n",
    "o_img_list = glob.glob(o_img_folder)\n",
    "o_img_list.sort()\n",
    "print(len(o_img_list))"
   ]
  },
  {
   "cell_type": "code",
   "execution_count": 8,
   "metadata": {},
   "outputs": [
    {
     "data": {
      "application/vnd.jupyter.widget-view+json": {
       "model_id": "3097672ba4e2457abb27dcad8a281d6b",
       "version_major": 2,
       "version_minor": 0
      },
      "text/plain": [
       "HBox(children=(IntProgress(value=0, max=4), HTML(value='')))"
      ]
     },
     "metadata": {},
     "output_type": "display_data"
    },
    {
     "name": "stdout",
     "output_type": "stream",
     "text": [
      "\n"
     ]
    }
   ],
   "source": [
    "seg_o_size_save_path = './segmentation_original_size'\n",
    "\n",
    "for seg_img_path in tqdm(seg_img_1024_list, total=len(seg_img_1024_list)):\n",
    "    seg_image_name = seg_img_path.split('/')[-1]\n",
    "    seg_img = cv2.imread(seg_img_path)\n",
    "    #find image in o_img_list, cv2.read the image_path can get original image size\n",
    "    o_img_path = [img_path for img_path in o_img_list if seg_image_name in img_path]\n",
    "    o_img = cv2.imread(o_img_path[0])\n",
    "    seg_img_original_size = cv2.resize(seg_img,(o_img.shape[1],o_img.shape[0]), interpolation = cv2.INTER_NEAREST)\n",
    "    \n",
    "    cv2.imwrite(os.path.join(seg_o_size_save_path, seg_image_name), seg_img_original_size)"
   ]
  },
  {
   "cell_type": "code",
   "execution_count": null,
   "metadata": {},
   "outputs": [],
   "source": []
  },
  {
   "cell_type": "code",
   "execution_count": null,
   "metadata": {},
   "outputs": [],
   "source": []
  },
  {
   "cell_type": "code",
   "execution_count": null,
   "metadata": {},
   "outputs": [],
   "source": []
  }
 ],
 "metadata": {
  "kernelspec": {
   "display_name": "Python 3",
   "language": "python",
   "name": "python3"
  },
  "language_info": {
   "codemirror_mode": {
    "name": "ipython",
    "version": 3
   },
   "file_extension": ".py",
   "mimetype": "text/x-python",
   "name": "python",
   "nbconvert_exporter": "python",
   "pygments_lexer": "ipython3",
   "version": "3.6.7"
  }
 },
 "nbformat": 4,
 "nbformat_minor": 4
}
